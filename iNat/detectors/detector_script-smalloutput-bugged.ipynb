{
 "cells": [
  {
   "cell_type": "code",
   "execution_count": 1,
   "metadata": {},
   "outputs": [],
   "source": [
    "import numpy as np\n",
    "import time\n",
    "import math\n",
    "\n",
    "import torch\n",
    "import torch.nn as nn\n",
    "import torch.nn.functional as F\n",
    "import torch.optim as optim\n",
    "import torch.autograd as autograd\n",
    "import torchvision.transforms as transforms\n",
    "import torchvision.datasets as datasets\n",
    "import torch.backends.cudnn as cudnn\n",
    "from torch.autograd import Variable\n",
    "from torch.nn.parameter import Parameter\n",
    "\n",
    "%matplotlib inline\n",
    "import pylab as pl\n",
    "\n",
    "from IPython import display\n",
    "from copy import deepcopy\n",
    "from skimage.transform import resize\n",
    "from PIL import Image"
   ]
  },
  {
   "cell_type": "code",
   "execution_count": 2,
   "metadata": {},
   "outputs": [],
   "source": [
    "# Set Important Values\n",
    "\n",
    "data = '/data/dww78/mini_inat_val/'\n",
    "gpu = 0\n",
    "torch.cuda.set_device(gpu)\n",
    "workers = 8\n",
    "epoch = 10\n",
    "start_epoch = 0\n",
    "vbity = 20\n",
    "esize = 2\n",
    "\n",
    "way = 20\n",
    "evalway = 5\n",
    "trainshot = 5\n",
    "testshot = 15"
   ]
  },
  {
   "cell_type": "code",
   "execution_count": 3,
   "metadata": {},
   "outputs": [
    {
     "name": "stdout",
     "output_type": "stream",
     "text": [
      "Data loaded!\n",
      "681 227\n"
     ]
    }
   ],
   "source": [
    "# Load Training/Testing Data\n",
    "threshold = .15\n",
    "d_train = torch.load(data+'train_boxes.pth')\n",
    "d_test = torch.load(data+'val_boxes.pth')\n",
    "d_boxes = torch.load(data+'box_coords.pth')\n",
    "\n",
    "transform = transforms.Compose([\n",
    "    transforms.ToTensor(),\n",
    "    transforms.Normalize(mean=[0.4905, 0.4961, 0.4330],std=[0.1737, 0.1713, 0.1779])\n",
    "    ])\n",
    "\n",
    "def load_transform(path, pathdict, boxdict, transform, size, msize, flipping, masking):\n",
    "    flip = np.random.choice([True, False])\n",
    "    with open(path, 'rb') as f:\n",
    "        p = Image.open(f)\n",
    "        p = p.convert('RGB')\n",
    "    w,h = p.size\n",
    "    p = p.resize((size, size), Image.BILINEAR)\n",
    "    if flip and flipping:\n",
    "        p = p.transpose(Image.FLIP_LEFT_RIGHT)\n",
    "    t = transform(p)\n",
    "    if masking:\n",
    "        mask = np.zeros((h,w))\n",
    "        boxes = pathdict[path]\n",
    "        for b in boxes:\n",
    "            box = boxdict[b]\n",
    "            xmin = box[0]\n",
    "            xmax = box[2]+xmin\n",
    "            ymin = box[1]\n",
    "            ymax = box[3]+ymin\n",
    "            if not flip or not flipping:\n",
    "                mask[ymin:ymax, xmin:xmax] = 1\n",
    "            else:\n",
    "                mask[ymin:ymax, w-xmax:w-xmin] = 1\n",
    "        mask = resize(mask, (msize,msize), mode='constant', cval=0, anti_aliasing=True)\n",
    "        t = [t, (torch.FloatTensor(mask-threshold).sign()/2+.5).unsqueeze(0)]\n",
    "    return t\n",
    "\n",
    "class ProtoSampler(torch.utils.data.sampler.Sampler):\n",
    "    def __init__(self, data_source, way):\n",
    "        iddict = dict()\n",
    "        for i,(_,cat) in enumerate(data_source.imgs):\n",
    "            if cat in iddict:\n",
    "                iddict[cat].append(i)\n",
    "            else:\n",
    "                iddict[cat] = [i]\n",
    "        self.iddict = iddict\n",
    "        self.way = way\n",
    "        \n",
    "    def __iter__(self):\n",
    "        # Build new dictionary, shuffle entries\n",
    "        trackdict = deepcopy(self.iddict)\n",
    "        for key in trackdict:\n",
    "            np.random.shuffle(trackdict[key])\n",
    "        # Choose categories, sample, eliminate small categories\n",
    "        idlist = []\n",
    "        while len(trackdict.keys()) >= self.way:\n",
    "            cats = np.random.choice(list(trackdict.keys()), size=self.way, replace=False)\n",
    "            for cat in cats:\n",
    "                for _ in range(trainshot):\n",
    "                    idlist.append(trackdict[cat].pop())\n",
    "            for cat in cats:\n",
    "                for _ in range(testshot):\n",
    "                    idlist.append(trackdict[cat].pop())\n",
    "                if len(trackdict[cat]) < trainshot+testshot:\n",
    "                    trackdict.pop(cat)\n",
    "            # TODO: shuffle idlist batches\n",
    "            yield idlist\n",
    "            idlist = []\n",
    "\n",
    "train_dataset = datasets.ImageFolder(\n",
    "    data+'train', \n",
    "    loader = lambda x: load_transform(x, d_train, d_boxes, transform, 84, 21, True, True))\n",
    "test_dataset = datasets.ImageFolder(\n",
    "    data+'val',\n",
    "    loader = lambda x: load_transform(x, d_test, d_boxes, transform, 84, 21, False, True))\n",
    "train_loader = torch.utils.data.DataLoader(\n",
    "    train_dataset, \n",
    "    batch_sampler = ProtoSampler(train_dataset, way),\n",
    "    num_workers = workers,\n",
    "    pin_memory = True)\n",
    "test_loader = torch.utils.data.DataLoader(\n",
    "    test_dataset,\n",
    "    batch_sampler = ProtoSampler(test_dataset, evalway),\n",
    "    num_workers = workers,\n",
    "    pin_memory = True)\n",
    "print('Data loaded!')\n",
    "print(len(train_dataset.classes), len(test_dataset.classes))"
   ]
  },
  {
   "cell_type": "code",
   "execution_count": 4,
   "metadata": {},
   "outputs": [
    {
     "name": "stdout",
     "output_type": "stream",
     "text": [
      "113088  parameters in each neural net.\n"
     ]
    }
   ],
   "source": [
    "# Make Models\n",
    "\n",
    "class Block(nn.Module):\n",
    "    def __init__(self, insize, outsize):\n",
    "        super(Block, self).__init__()\n",
    "        self.layers = nn.Sequential(\n",
    "            nn.Conv2d(insize, outsize, kernel_size=3, padding=1),\n",
    "            nn.BatchNorm2d(outsize)\n",
    "        )\n",
    "        \n",
    "    def forward(self, inp):\n",
    "        return self.layers(inp)\n",
    "\n",
    "class PROTO(nn.Module):\n",
    "    def __init__(self):\n",
    "        super(PROTO, self).__init__()\n",
    "        self.process = nn.Sequential(\n",
    "            Block(3,64),\n",
    "            nn.ReLU(inplace=True),\n",
    "            nn.MaxPool2d(2),\n",
    "            Block(64,64),\n",
    "            nn.ReLU(inplace=True),\n",
    "            nn.MaxPool2d(2),\n",
    "            Block(64,64),\n",
    "            nn.ReLU(inplace=True),\n",
    "            Block(64,64)\n",
    "        )\n",
    "        \n",
    "    def forward(self, inp):\n",
    "        return self.process(inp)\n",
    "        \n",
    "class Predictor(nn.Module):\n",
    "    def __init__(self):\n",
    "        super(Predictor, self).__init__()\n",
    "        self.sm = nn.LogSoftmax(dim=-1)\n",
    "        \n",
    "    def forward(self, inp, masks, way, trainshot):\n",
    "        support = inp[:way*trainshot].unsqueeze(-1) # B 64 21 21 1\n",
    "        m = masks.unsqueeze(1) # B 1 21 21\n",
    "        c = torch.stack([1-m, m], dim=-1) # B 1 21 21 2     (Positive class corresponds to index/label 1)\n",
    "        c = (c*support).contiguous().view(way,trainshot,inp.size(1),-1,2).mean(3).mean(1) # W 64 2\n",
    "        c = c.unsqueeze(2).unsqueeze(2).unsqueeze(1) # W 1 64 1 1 2\n",
    "        \n",
    "        query = inp[way*trainshot:].view(way, -1, inp.size(1), inp.size(2), inp.size(3), 1) # W S 64 21 21 1\n",
    "        \n",
    "        distmat = ((c-query)**2).sum(2).neg().view(-1, inp.size(2), inp.size(3), 2) # B 21 21 2\n",
    "        probs = self.sm(distmat)\n",
    "        return probs\n",
    "    \n",
    "smodel = [PROTO().cuda() for i in range(esize)]\n",
    "predictor = Predictor().cuda()\n",
    "soptimizer = [optim.Adam(m.parameters(), lr=.001) for m in smodel]\n",
    "sscheduler = [optim.lr_scheduler.LambdaLR(o, lambda x: 1/(2**x)) for o in soptimizer]\n",
    "criterion = nn.NLLLoss().cuda()\n",
    "\n",
    "nweights = sum([i.numel() for i in list(smodel[0].parameters())])\n",
    "print(nweights,\" parameters in each neural net.\")"
   ]
  },
  {
   "cell_type": "code",
   "execution_count": 5,
   "metadata": {},
   "outputs": [
    {
     "name": "stdout",
     "output_type": "stream",
     "text": [
      "Ready to go!\n"
     ]
    }
   ],
   "source": [
    "# Define the Procedures\n",
    "\n",
    "def train(train_loader, epoch, gpu, vbity):\n",
    "    for model in smodel:\n",
    "        model.train()\n",
    "    allloss = [0]*esize\n",
    "    for i, ((inp,m), _) in enumerate(train_loader):\n",
    "        im = Variable(inp).cuda(device = gpu, async=True) # B 3 84 84\n",
    "        m = Variable(m).cuda(device = gpu, async=True) # B 1 21 21\n",
    "        mask = m[:way*trainshot] \n",
    "        targ = m[way*trainshot:].long() \n",
    "        \n",
    "        for j in range(esize):\n",
    "            smodel[j].zero_grad()\n",
    "            out = predictor(smodel[j](im), mask, way, trainshot)\n",
    "            loss = criterion(out.view(-1,2), targ.view(-1))\n",
    "            loss.backward()\n",
    "            soptimizer[j].step()\n",
    "        \n",
    "            allloss[j] += loss.item()\n",
    "            \n",
    "        if i%vbity == 0:\n",
    "            print('%d of approx. 192270'%(i*way*(trainshot+testshot)))\n",
    "    return [L/i for L in allloss]\n",
    "\n",
    "def validate(val_loader, gpu, vbity, reps, verbose):\n",
    "    for model in smodel:\n",
    "        model.eval()\n",
    "    targ = Variable(torch.LongTensor([i//testshot for i in range(testshot*evalway)])).cuda(\n",
    "        device = gpu, async=True)\n",
    "    allloss = [0]*esize\n",
    "    acctracker = [[] for _ in range(esize)]\n",
    "    for r in range(reps):\n",
    "        for i, ((inp,m), _) in enumerate(val_loader):\n",
    "            im = Variable(inp).cuda(device = gpu, async=True) # B 3 84 84\n",
    "            m = Variable(m).cuda(device = gpu, async=True) # B 1 21 21\n",
    "            mask = m[:evalway*trainshot] \n",
    "            targ = m[evalway*trainshot:].long() \n",
    "\n",
    "            with torch.no_grad():\n",
    "                for j in range(esize):\n",
    "                    out = predictor(smodel[j](im), mask, evalway, trainshot)\n",
    "                    loss = criterion(out.view(-1,2), targ.view(-1))\n",
    "                    allloss[j] += loss.item()\n",
    "                    _,bins = torch.max(out,-1)\n",
    "                    pred = 1-bins\n",
    "                    intersection = (pred*targ).sum().item()\n",
    "                    union = (1-(1-targ)*(1-pred)).sum().item()\n",
    "                    acc = intersection/union\n",
    "                    acctracker[j].append(acc)\n",
    "            if i%vbity == 0 and verbose:\n",
    "                print('Round %d of %d, %d of approx. 51716'%(r+1, reps, i*evalway*(trainshot+testshot)))\n",
    "    return [L/i for L in allloss], [np.mean(a) for a in acctracker], [1.96*np.sqrt(np.var(a)/len(a)) for a in acctracker]\n",
    "\n",
    "print('Ready to go!')"
   ]
  },
  {
   "cell_type": "code",
   "execution_count": null,
   "metadata": {},
   "outputs": [
    {
     "name": "stdout",
     "output_type": "stream",
     "text": [
      "0 of approx. 192270\n",
      "8000 of approx. 192270\n",
      "16000 of approx. 192270\n",
      "24000 of approx. 192270\n",
      "32000 of approx. 192270\n",
      "40000 of approx. 192270\n",
      "48000 of approx. 192270\n",
      "56000 of approx. 192270\n",
      "64000 of approx. 192270\n",
      "72000 of approx. 192270\n",
      "80000 of approx. 192270\n",
      "88000 of approx. 192270\n",
      "96000 of approx. 192270\n",
      "104000 of approx. 192270\n",
      "112000 of approx. 192270\n",
      "120000 of approx. 192270\n",
      "128000 of approx. 192270\n",
      "136000 of approx. 192270\n",
      "Round 1 of 1, 0 of approx. 51716\n",
      "Round 1 of 1, 2000 of approx. 51716\n",
      "Round 1 of 1, 4000 of approx. 51716\n",
      "Round 1 of 1, 6000 of approx. 51716\n",
      "Round 1 of 1, 8000 of approx. 51716\n"
     ]
    }
   ],
   "source": [
    "# Do the Thing!\n",
    "\n",
    "start = time.time()\n",
    "trainlosses, testlosses, acctracker = [[] for _ in range(esize)],[[] for _ in range(esize)],[[] for _ in range(esize)]\n",
    "epochs = 5*epoch\n",
    "for e in range(epochs):\n",
    "    # Adjust learnrate\n",
    "    if e%epoch == 0:\n",
    "        [s.step() for s in sscheduler]\n",
    "    \n",
    "    # Train for one epoch\n",
    "    trainloss = train(train_loader, e, gpu, vbity)\n",
    "    \n",
    "    # Evaluate, single pass\n",
    "    testloss, acc, _ = validate(test_loader, gpu, vbity, 1, True)\n",
    "    \n",
    "    # update the precision graph, report\n",
    "    display.clear_output(wait=True)\n",
    "    for j in range(esize):\n",
    "        trainlosses[j].append(trainloss[j])\n",
    "        testlosses[j].append(testloss[j])\n",
    "        acctracker[j].append(acc[j])\n",
    "    pl.figure(1, figsize=(15,15))\n",
    "    for i in range(esize):\n",
    "        pl.subplot(esize,2,2*i+1)\n",
    "        pl.plot(trainlosses[i])\n",
    "        pl.plot(testlosses[i])\n",
    "        pl.ylim((0,2))\n",
    "        pl.title(\"Loss: Training Blue, Validation Gold\")\n",
    "        pl.subplot(esize,2,2*i+2)\n",
    "        pl.plot(acctracker[i][::-1])\n",
    "        pl.ylim((0,1))\n",
    "        pl.title(\"Validation Acc\")\n",
    "    pl.show()\n",
    "    print(\"Train loss is: \"+str(trainloss)+\n",
    "            \"\\nValidation accuracy is: \"+str(acc)+\n",
    "            \"\\nValidation loss is: \"+str(testloss)+\"\\n\")\n",
    "    \n",
    "    print(\"%.2f hours to completion\"%(  (time.time()-start)/(e+1)*(epochs-e)/3600  ))\n",
    "    print()\n",
    "print((time.time()-start)/3600, \"hours total\") \n",
    "_, score, conf = validate(test_loader, gpu, vbity, 10, False)\n",
    "for i in range(esize):\n",
    "    print('Model %d final score: %.2f +- %.2f'%(i, score[i]*100, conf[i]*100))"
   ]
  },
  {
   "cell_type": "code",
   "execution_count": null,
   "metadata": {},
   "outputs": [],
   "source": [
    "torch.save(smodel[0].cpu().state_dict(), 'detector_TEMP_smaller.pth')"
   ]
  },
  {
   "cell_type": "code",
   "execution_count": null,
   "metadata": {},
   "outputs": [],
   "source": [
    "# IoU is 30"
   ]
  },
  {
   "cell_type": "code",
   "execution_count": 7,
   "metadata": {},
   "outputs": [],
   "source": [
    "for i in range(esize):\n",
    "    smodel[i].load_state_dict(torch.load('detector_TEMP_smaller.pth')[i])\n",
    "    smodel[i].cuda()"
   ]
  },
  {
   "cell_type": "code",
   "execution_count": 8,
   "metadata": {},
   "outputs": [
    {
     "name": "stdout",
     "output_type": "stream",
     "text": [
      "Round 1 of 10, 0 of approx. 51716\n",
      "Round 1 of 10, 2000 of approx. 51716\n",
      "Round 1 of 10, 4000 of approx. 51716\n",
      "Round 1 of 10, 6000 of approx. 51716\n",
      "Round 1 of 10, 8000 of approx. 51716\n",
      "Round 1 of 10, 10000 of approx. 51716\n",
      "Round 1 of 10, 12000 of approx. 51716\n",
      "Round 1 of 10, 14000 of approx. 51716\n",
      "Round 1 of 10, 16000 of approx. 51716\n",
      "Round 1 of 10, 18000 of approx. 51716\n",
      "Round 1 of 10, 20000 of approx. 51716\n",
      "Round 1 of 10, 22000 of approx. 51716\n",
      "Round 1 of 10, 24000 of approx. 51716\n",
      "Round 1 of 10, 26000 of approx. 51716\n",
      "Round 1 of 10, 28000 of approx. 51716\n",
      "Round 1 of 10, 30000 of approx. 51716\n",
      "Round 1 of 10, 32000 of approx. 51716\n",
      "Round 1 of 10, 34000 of approx. 51716\n",
      "Round 1 of 10, 36000 of approx. 51716\n",
      "Round 1 of 10, 38000 of approx. 51716\n",
      "Round 1 of 10, 40000 of approx. 51716\n",
      "Round 1 of 10, 42000 of approx. 51716\n",
      "Round 2 of 10, 0 of approx. 51716\n",
      "Round 2 of 10, 2000 of approx. 51716\n",
      "Round 2 of 10, 4000 of approx. 51716\n",
      "Round 2 of 10, 6000 of approx. 51716\n",
      "Round 2 of 10, 8000 of approx. 51716\n",
      "Round 2 of 10, 10000 of approx. 51716\n",
      "Round 2 of 10, 12000 of approx. 51716\n",
      "Round 2 of 10, 14000 of approx. 51716\n",
      "Round 2 of 10, 16000 of approx. 51716\n",
      "Round 2 of 10, 18000 of approx. 51716\n",
      "Round 2 of 10, 20000 of approx. 51716\n",
      "Round 2 of 10, 22000 of approx. 51716\n",
      "Round 2 of 10, 24000 of approx. 51716\n",
      "Round 2 of 10, 26000 of approx. 51716\n",
      "Round 2 of 10, 28000 of approx. 51716\n",
      "Round 2 of 10, 30000 of approx. 51716\n",
      "Round 2 of 10, 32000 of approx. 51716\n",
      "Round 2 of 10, 34000 of approx. 51716\n",
      "Round 2 of 10, 36000 of approx. 51716\n",
      "Round 2 of 10, 38000 of approx. 51716\n",
      "Round 2 of 10, 40000 of approx. 51716\n",
      "Round 3 of 10, 0 of approx. 51716\n",
      "Round 3 of 10, 2000 of approx. 51716\n",
      "Round 3 of 10, 4000 of approx. 51716\n",
      "Round 3 of 10, 6000 of approx. 51716\n",
      "Round 3 of 10, 8000 of approx. 51716\n",
      "Round 3 of 10, 10000 of approx. 51716\n",
      "Round 3 of 10, 12000 of approx. 51716\n",
      "Round 3 of 10, 14000 of approx. 51716\n",
      "Round 3 of 10, 16000 of approx. 51716\n",
      "Round 3 of 10, 18000 of approx. 51716\n",
      "Round 3 of 10, 20000 of approx. 51716\n",
      "Round 3 of 10, 22000 of approx. 51716\n",
      "Round 3 of 10, 24000 of approx. 51716\n",
      "Round 3 of 10, 26000 of approx. 51716\n",
      "Round 3 of 10, 28000 of approx. 51716\n",
      "Round 3 of 10, 30000 of approx. 51716\n",
      "Round 3 of 10, 32000 of approx. 51716\n",
      "Round 3 of 10, 34000 of approx. 51716\n",
      "Round 3 of 10, 36000 of approx. 51716\n",
      "Round 3 of 10, 38000 of approx. 51716\n",
      "Round 3 of 10, 40000 of approx. 51716\n",
      "Round 3 of 10, 42000 of approx. 51716\n",
      "Round 4 of 10, 0 of approx. 51716\n",
      "Round 4 of 10, 2000 of approx. 51716\n",
      "Round 4 of 10, 4000 of approx. 51716\n",
      "Round 4 of 10, 6000 of approx. 51716\n",
      "Round 4 of 10, 8000 of approx. 51716\n",
      "Round 4 of 10, 10000 of approx. 51716\n",
      "Round 4 of 10, 12000 of approx. 51716\n",
      "Round 4 of 10, 14000 of approx. 51716\n",
      "Round 4 of 10, 16000 of approx. 51716\n",
      "Round 4 of 10, 18000 of approx. 51716\n",
      "Round 4 of 10, 20000 of approx. 51716\n",
      "Round 4 of 10, 22000 of approx. 51716\n",
      "Round 4 of 10, 24000 of approx. 51716\n",
      "Round 4 of 10, 26000 of approx. 51716\n",
      "Round 4 of 10, 28000 of approx. 51716\n",
      "Round 4 of 10, 30000 of approx. 51716\n",
      "Round 4 of 10, 32000 of approx. 51716\n",
      "Round 4 of 10, 34000 of approx. 51716\n",
      "Round 4 of 10, 36000 of approx. 51716\n",
      "Round 4 of 10, 38000 of approx. 51716\n",
      "Round 4 of 10, 40000 of approx. 51716\n",
      "Round 4 of 10, 42000 of approx. 51716\n",
      "Round 5 of 10, 0 of approx. 51716\n",
      "Round 5 of 10, 2000 of approx. 51716\n",
      "Round 5 of 10, 4000 of approx. 51716\n",
      "Round 5 of 10, 6000 of approx. 51716\n",
      "Round 5 of 10, 8000 of approx. 51716\n",
      "Round 5 of 10, 10000 of approx. 51716\n",
      "Round 5 of 10, 12000 of approx. 51716\n",
      "Round 5 of 10, 14000 of approx. 51716\n",
      "Round 5 of 10, 16000 of approx. 51716\n",
      "Round 5 of 10, 18000 of approx. 51716\n",
      "Round 5 of 10, 20000 of approx. 51716\n",
      "Round 5 of 10, 22000 of approx. 51716\n",
      "Round 5 of 10, 24000 of approx. 51716\n",
      "Round 5 of 10, 26000 of approx. 51716\n",
      "Round 5 of 10, 28000 of approx. 51716\n",
      "Round 5 of 10, 30000 of approx. 51716\n",
      "Round 5 of 10, 32000 of approx. 51716\n",
      "Round 5 of 10, 34000 of approx. 51716\n",
      "Round 5 of 10, 36000 of approx. 51716\n",
      "Round 5 of 10, 38000 of approx. 51716\n",
      "Round 5 of 10, 40000 of approx. 51716\n",
      "Round 5 of 10, 42000 of approx. 51716\n",
      "Round 6 of 10, 0 of approx. 51716\n",
      "Round 6 of 10, 2000 of approx. 51716\n",
      "Round 6 of 10, 4000 of approx. 51716\n",
      "Round 6 of 10, 6000 of approx. 51716\n",
      "Round 6 of 10, 8000 of approx. 51716\n",
      "Round 6 of 10, 10000 of approx. 51716\n",
      "Round 6 of 10, 12000 of approx. 51716\n",
      "Round 6 of 10, 14000 of approx. 51716\n",
      "Round 6 of 10, 16000 of approx. 51716\n",
      "Round 6 of 10, 18000 of approx. 51716\n",
      "Round 6 of 10, 20000 of approx. 51716\n",
      "Round 6 of 10, 22000 of approx. 51716\n",
      "Round 6 of 10, 24000 of approx. 51716\n",
      "Round 6 of 10, 26000 of approx. 51716\n",
      "Round 6 of 10, 28000 of approx. 51716\n",
      "Round 6 of 10, 30000 of approx. 51716\n",
      "Round 6 of 10, 32000 of approx. 51716\n",
      "Round 6 of 10, 34000 of approx. 51716\n",
      "Round 6 of 10, 36000 of approx. 51716\n",
      "Round 6 of 10, 38000 of approx. 51716\n",
      "Round 6 of 10, 40000 of approx. 51716\n",
      "Round 6 of 10, 42000 of approx. 51716\n",
      "Round 7 of 10, 0 of approx. 51716\n",
      "Round 7 of 10, 2000 of approx. 51716\n",
      "Round 7 of 10, 4000 of approx. 51716\n",
      "Round 7 of 10, 6000 of approx. 51716\n",
      "Round 7 of 10, 8000 of approx. 51716\n",
      "Round 7 of 10, 10000 of approx. 51716\n",
      "Round 7 of 10, 12000 of approx. 51716\n",
      "Round 7 of 10, 14000 of approx. 51716\n",
      "Round 7 of 10, 16000 of approx. 51716\n",
      "Round 7 of 10, 18000 of approx. 51716\n",
      "Round 7 of 10, 20000 of approx. 51716\n",
      "Round 7 of 10, 22000 of approx. 51716\n",
      "Round 7 of 10, 24000 of approx. 51716\n",
      "Round 7 of 10, 26000 of approx. 51716\n",
      "Round 7 of 10, 28000 of approx. 51716\n",
      "Round 7 of 10, 30000 of approx. 51716\n",
      "Round 7 of 10, 32000 of approx. 51716\n",
      "Round 7 of 10, 34000 of approx. 51716\n",
      "Round 7 of 10, 36000 of approx. 51716\n",
      "Round 7 of 10, 38000 of approx. 51716\n",
      "Round 7 of 10, 40000 of approx. 51716\n",
      "Round 7 of 10, 42000 of approx. 51716\n",
      "Round 8 of 10, 0 of approx. 51716\n",
      "Round 8 of 10, 2000 of approx. 51716\n",
      "Round 8 of 10, 4000 of approx. 51716\n",
      "Round 8 of 10, 6000 of approx. 51716\n",
      "Round 8 of 10, 8000 of approx. 51716\n",
      "Round 8 of 10, 10000 of approx. 51716\n",
      "Round 8 of 10, 12000 of approx. 51716\n",
      "Round 8 of 10, 14000 of approx. 51716\n",
      "Round 8 of 10, 16000 of approx. 51716\n",
      "Round 8 of 10, 18000 of approx. 51716\n",
      "Round 8 of 10, 20000 of approx. 51716\n",
      "Round 8 of 10, 22000 of approx. 51716\n",
      "Round 8 of 10, 24000 of approx. 51716\n",
      "Round 8 of 10, 26000 of approx. 51716\n",
      "Round 8 of 10, 28000 of approx. 51716\n",
      "Round 8 of 10, 30000 of approx. 51716\n",
      "Round 8 of 10, 32000 of approx. 51716\n",
      "Round 8 of 10, 34000 of approx. 51716\n",
      "Round 8 of 10, 36000 of approx. 51716\n",
      "Round 8 of 10, 38000 of approx. 51716\n",
      "Round 8 of 10, 40000 of approx. 51716\n",
      "Round 8 of 10, 42000 of approx. 51716\n",
      "Round 9 of 10, 0 of approx. 51716\n",
      "Round 9 of 10, 2000 of approx. 51716\n",
      "Round 9 of 10, 4000 of approx. 51716\n",
      "Round 9 of 10, 6000 of approx. 51716\n",
      "Round 9 of 10, 8000 of approx. 51716\n",
      "Round 9 of 10, 10000 of approx. 51716\n",
      "Round 9 of 10, 12000 of approx. 51716\n",
      "Round 9 of 10, 14000 of approx. 51716\n",
      "Round 9 of 10, 16000 of approx. 51716\n",
      "Round 9 of 10, 18000 of approx. 51716\n",
      "Round 9 of 10, 20000 of approx. 51716\n",
      "Round 9 of 10, 22000 of approx. 51716\n",
      "Round 9 of 10, 24000 of approx. 51716\n",
      "Round 9 of 10, 26000 of approx. 51716\n",
      "Round 9 of 10, 28000 of approx. 51716\n",
      "Round 9 of 10, 30000 of approx. 51716\n",
      "Round 9 of 10, 32000 of approx. 51716\n",
      "Round 9 of 10, 34000 of approx. 51716\n",
      "Round 9 of 10, 36000 of approx. 51716\n",
      "Round 9 of 10, 38000 of approx. 51716\n",
      "Round 9 of 10, 40000 of approx. 51716\n",
      "Round 9 of 10, 42000 of approx. 51716\n",
      "Round 10 of 10, 0 of approx. 51716\n",
      "Round 10 of 10, 2000 of approx. 51716\n",
      "Round 10 of 10, 4000 of approx. 51716\n",
      "Round 10 of 10, 6000 of approx. 51716\n",
      "Round 10 of 10, 8000 of approx. 51716\n",
      "Round 10 of 10, 10000 of approx. 51716\n",
      "Round 10 of 10, 12000 of approx. 51716\n",
      "Round 10 of 10, 14000 of approx. 51716\n",
      "Round 10 of 10, 16000 of approx. 51716\n",
      "Round 10 of 10, 18000 of approx. 51716\n",
      "Round 10 of 10, 20000 of approx. 51716\n",
      "Round 10 of 10, 22000 of approx. 51716\n",
      "Round 10 of 10, 24000 of approx. 51716\n",
      "Round 10 of 10, 26000 of approx. 51716\n",
      "Round 10 of 10, 28000 of approx. 51716\n",
      "Round 10 of 10, 30000 of approx. 51716\n",
      "Round 10 of 10, 32000 of approx. 51716\n",
      "Round 10 of 10, 34000 of approx. 51716\n",
      "Round 10 of 10, 36000 of approx. 51716\n",
      "Round 10 of 10, 38000 of approx. 51716\n",
      "Round 10 of 10, 40000 of approx. 51716\n"
     ]
    },
    {
     "name": "stdout",
     "output_type": "stream",
     "text": [
      "Round 10 of 10, 42000 of approx. 51716\n",
      "Model 0 final score: 0.28 +- 0.05\n",
      "Model 1 final score: 0.50 +- 0.05\n"
     ]
    }
   ],
   "source": [
    "_, score, conf = validate(test_loader, gpu, vbity, 10, True)\n",
    "for i in range(esize):\n",
    "    print('Model %d final score: %.2f +- %.2f'%(i, score[i]*100, conf[i]*100))"
   ]
  },
  {
   "cell_type": "code",
   "execution_count": null,
   "metadata": {},
   "outputs": [],
   "source": []
  },
  {
   "cell_type": "code",
   "execution_count": null,
   "metadata": {},
   "outputs": [],
   "source": []
  },
  {
   "cell_type": "code",
   "execution_count": null,
   "metadata": {},
   "outputs": [],
   "source": []
  },
  {
   "cell_type": "code",
   "execution_count": null,
   "metadata": {},
   "outputs": [],
   "source": []
  },
  {
   "cell_type": "code",
   "execution_count": 6,
   "metadata": {},
   "outputs": [],
   "source": [
    "i = 0\n",
    "smodel[i].load_state_dict(torch.load('detector_TEMP_smaller.pth')[i])\n",
    "model = smodel[i].cuda()"
   ]
  },
  {
   "cell_type": "code",
   "execution_count": 7,
   "metadata": {},
   "outputs": [],
   "source": [
    "for (inp, m), targ in train_loader:\n",
    "    inp = Variable(inp).cuda(device = gpu, async=True) # B 3 84 84\n",
    "    m = Variable(m).cuda(device = gpu, async=True) # B 1 21 21\n",
    "    mask = m[:way*trainshot]\n",
    "    targ = m[way*trainshot:].long()\n",
    "\n",
    "    out = model(inp)\n",
    "    pred = predictor(out, mask, way, trainshot)\n",
    "    \n",
    "    break"
   ]
  },
  {
   "cell_type": "code",
   "execution_count": 41,
   "metadata": {},
   "outputs": [],
   "source": [
    "n = 15\n",
    "m = n+way*trainshot"
   ]
  },
  {
   "cell_type": "code",
   "execution_count": 42,
   "metadata": {},
   "outputs": [
    {
     "data": {
      "text/plain": [
       "<matplotlib.image.AxesImage at 0x7f6b60271898>"
      ]
     },
     "execution_count": 42,
     "metadata": {},
     "output_type": "execute_result"
    },
    {
     "data": {
      "image/png": "[encoded data removed]",
      "text/plain": [
       "<Figure size 432x288 with 1 Axes>"
      ]
     },
     "metadata": {},
     "output_type": "display_data"
    }
   ],
   "source": [
    "pl.imshow(inp[m][0].data.cpu().numpy())"
   ]
  },
  {
   "cell_type": "code",
   "execution_count": 43,
   "metadata": {},
   "outputs": [
    {
     "data": {
      "text/plain": [
       "<matplotlib.image.AxesImage at 0x7f6b60252390>"
      ]
     },
     "execution_count": 43,
     "metadata": {},
     "output_type": "execute_result"
    },
    {
     "data": {
      "image/png": "[encoded data removed]",
      "text/plain": [
       "<Figure size 432x288 with 1 Axes>"
      ]
     },
     "metadata": {},
     "output_type": "display_data"
    }
   ],
   "source": [
    "t = targ[n].squeeze()\n",
    "pl.imshow(t.data.cpu().squeeze().numpy())"
   ]
  },
  {
   "cell_type": "code",
   "execution_count": 47,
   "metadata": {},
   "outputs": [
    {
     "data": {
      "text/plain": [
       "<matplotlib.image.AxesImage at 0x7f6b600bef28>"
      ]
     },
     "execution_count": 47,
     "metadata": {},
     "output_type": "execute_result"
    },
    {
     "data": {
      "image/png": "[encoded data removed]",
      "text/plain": [
       "<Figure size 432x288 with 1 Axes>"
      ]
     },
     "metadata": {},
     "output_type": "display_data"
    }
   ],
   "source": [
    "_,bins = torch.max(pred[n],-1)\n",
    "p = 1-bins\n",
    "pl.imshow(pred[n,:,:,0].data.cpu().squeeze().numpy())"
   ]
  },
  {
   "cell_type": "code",
   "execution_count": 48,
   "metadata": {},
   "outputs": [
    {
     "name": "stdout",
     "output_type": "stream",
     "text": [
      "39 72 0.5416666666666666\n"
     ]
    }
   ],
   "source": [
    "intersection = (p*t).sum()\n",
    "union = (1-(1-t)*(1-p)).sum()\n",
    "print(intersection.item(), union.item(), intersection.item()/union.item())"
   ]
  },
  {
   "cell_type": "code",
   "execution_count": null,
   "metadata": {},
   "outputs": [],
   "source": []
  },
  {
   "cell_type": "code",
   "execution_count": null,
   "metadata": {},
   "outputs": [],
   "source": []
  },
  {
   "cell_type": "code",
   "execution_count": null,
   "metadata": {},
   "outputs": [],
   "source": []
  },
  {
   "cell_type": "code",
   "execution_count": null,
   "metadata": {},
   "outputs": [],
   "source": []
  },
  {
   "cell_type": "code",
   "execution_count": null,
   "metadata": {},
   "outputs": [],
   "source": []
  }
 ],
 "metadata": {
  "kernelspec": {
   "display_name": "Python 3",
   "language": "python",
   "name": "python3"
  },
  "language_info": {
   "codemirror_mode": {
    "name": "ipython",
    "version": 3
   },
   "file_extension": ".py",
   "mimetype": "text/x-python",
   "name": "python",
   "nbconvert_exporter": "python",
   "pygments_lexer": "ipython3",
   "version": "3.6.6"
  }
 },
 "nbformat": 4,
 "nbformat_minor": 2
}
