{
 "cells": [
  {
   "cell_type": "code",
   "execution_count": 1,
   "metadata": {
    "collapsed": true
   },
   "outputs": [],
   "source": [
    "import numpy as np\n",
    "import math\n",
    "import random\n",
    "import torch\n",
    "import torch.nn as nn\n",
    "import torch.nn.functional as F\n",
    "import torch.optim as optim\n",
    "import torch.autograd as autograd\n",
    "import torchvision.transforms as transforms\n",
    "from torch.autograd import Variable\n",
    "from torch.nn.parameter import Parameter\n",
    "from scipy.misc import imresize\n",
    "\n",
    "%matplotlib inline\n",
    "import pylab as pl\n",
    "from IPython import display\n",
    "import time\n",
    "\n",
    "torch.cuda.set_device(1)"
   ]
  },
  {
   "cell_type": "code",
   "execution_count": 33,
   "metadata": {
    "collapsed": true
   },
   "outputs": [],
   "source": [
    "class Block(nn.Module):\n",
    "    def __init__(self, insize, outsize):\n",
    "        super(Block, self).__init__()\n",
    "        self.layers = nn.Sequential(\n",
    "            nn.Conv2d(insize, outsize, kernel_size=3, padding=1),\n",
    "            nn.BatchNorm2d(outsize),\n",
    "            nn.ReLU()\n",
    "        )\n",
    "        \n",
    "    def forward(self, inp):\n",
    "        return self.layers(inp)\n",
    "\n",
    "class ENCODER(nn.Module):\n",
    "    def __init__(self):\n",
    "        super(ENCODER, self).__init__()\n",
    "        self.process = nn.Sequential(\n",
    "            Block(3,64),\n",
    "            nn.MaxPool2d(2),\n",
    "            Block(64,64),\n",
    "            nn.MaxPool2d(2),\n",
    "            Block(64,64),\n",
    "            nn.MaxPool2d(2),\n",
    "            Block(64,64)\n",
    "        )\n",
    "        self.pool = nn.AvgPool2d(10)\n",
    "        \n",
    "    def forward(self, inp, mask):\n",
    "        out = self.process(inp[:,:3,:,:])\n",
    "#         outmask = self.LSM(self.rechannel(out).view(out.size(0),-1)).view(out.size(0),1,\n",
    "#                                                                           out.size(2),out.size(2))\n",
    "        bf = self.pool((1-mask)*out).squeeze()-self.pool(mask*out).squeeze()\n",
    "        return self.pool(out).squeeze(),bf\n",
    "    \n",
    "class PREDICTOR(nn.Module):\n",
    "    def __init__(self):\n",
    "        super(PREDICTOR, self).__init__()\n",
    "        self.sm = nn.LogSoftmax(dim=-1)\n",
    "        \n",
    "    def forward(self, support, inp, way):\n",
    "        assert support.size(0)%way == 0,\"Error: classes are not the same size!\"\n",
    "        support = support.view(way,support.size(0)//way,-1)\n",
    "        centroids = torch.mean(support, 1).view(support.size(0),-1)\n",
    "        distmat = torch.sum((centroids.unsqueeze(0)-inp.unsqueeze(1))**2,2).squeeze()*-1\n",
    "        probs = self.sm(distmat)\n",
    "        return probs\n",
    "    \n",
    "class REGULATOR(nn.Module):\n",
    "    def __init__(self):\n",
    "        super(REGULATOR, self).__init__()\n",
    "        \n",
    "    def forward(self, support, bf, way):\n",
    "        assert support.size(0)%way == 0,\"Error: classes are not the same size!\"\n",
    "        support = support.view(way,support.size(0)//way,-1)\n",
    "        centroids = F.normalize(torch.mean(support, 1).view(way,-1).unsqueeze(1),dim=-1) # 5x1x64\n",
    "        bf = F.normalize(bf,dim=-1).view(way,f.size(0)//way,-1) # 5x15x64\n",
    "        return torch.sum(centroids*bf,dim=-1).view(-1)\n",
    "        "
   ]
  },
  {
   "cell_type": "code",
   "execution_count": 3,
   "metadata": {
    "collapsed": true
   },
   "outputs": [],
   "source": [
    "raw = torch.load('/data/imagenet/photos-annotated-0.pth')\n",
    "preprocess = transforms.Compose([\n",
    "    transforms.ToTensor(),\n",
    "    transforms.Normalize(mean=[.485,.456,.406],std=[.229,.224,.225])])\n",
    "dataset = [[[preprocess(r[1]),torch.Tensor(imresize(r[2],(10,10))).unsqueeze(0)/255] \n",
    "            for r in cat] for cat in raw]\n",
    "trainset = dataset[:64]\n",
    "testset = dataset[-20:]\n"
   ]
  },
  {
   "cell_type": "code",
   "execution_count": 41,
   "metadata": {
    "collapsed": true
   },
   "outputs": [],
   "source": [
    "def flip(x, dim):\n",
    "    dim = x.dim() + dim if dim < 0 else dim\n",
    "    return x[tuple(slice(None, None) if i != dim\n",
    "             else torch.arange(x.size(i)-1, -1, -1).long()\n",
    "             for i in range(x.dim()))]\n",
    "\n",
    "def alter(t):\n",
    "    if True: #bool(random.getrandbits(1)):\n",
    "        return t\n",
    "    else:\n",
    "        return flip(t,-1)\n",
    "\n",
    "def batchmaker(way,trainshot,testshot,theset,alterful=False):\n",
    "    classes = np.random.choice(len(theset),way,replace=False)\n",
    "    if alterful:\n",
    "        li = [[(alter(theset[cl][i][0]).view(1,3,84,84),theset[cl][i][1].view(1,1,10,10)) for i in \n",
    "               np.random.choice(len(theset[cl]),trainshot+testshot,replace=False)]\n",
    "              for cl in classes]\n",
    "    else:\n",
    "        li = [[[theset[cl][i][0].view(1,3,84,84),theset[cl][i][1].view(1,10,10)] for i in \n",
    "               np.random.choice(len(theset[cl]),trainshot+testshot,replace=False)]\n",
    "              for cl in classes]\n",
    "    support = torch.cat([torch.cat([p[0] for p in t[:trainshot]],dim=0) for t in li],dim=0)\n",
    "    smask = torch.cat([torch.cat([p[1] for p in t[:trainshot]],dim=0) for t in li],dim=0)\n",
    "    stargs = torch.LongTensor([i//trainshot for i in range(trainshot*way)])\n",
    "    query = torch.cat([torch.cat([p[0] for p in t[trainshot:]],dim=0) for t in li],dim=0)\n",
    "    qmask = torch.cat([torch.cat([p[1] for p in t[trainshot:]],dim=0) for t in li],dim=0)\n",
    "    qtargs = torch.LongTensor([i//testshot for i in range(testshot*way)])\n",
    "#     print(support.size(),query.size())\n",
    "    return(Variable(support).cuda(),\n",
    "           Variable(smask, requires_grad=False).cuda(),\n",
    "           Variable(stargs).cuda(),\n",
    "           Variable(query, volatile=(not alterful)).cuda(),\n",
    "           Variable(qmask, requires_grad=False).cuda(),\n",
    "           Variable(qtargs, volatile=(not alterful)).cuda()\n",
    "          )\n",
    "\n",
    "def evaluate(embed,model,criterion,way,trainshot,testshot,reps,theset):\n",
    "    masktracker = 0\n",
    "    losstracker = 0\n",
    "    acctracker = 0\n",
    "    acclist = []\n",
    "    for i in range(reps):\n",
    "        s,_,_,q,_,qt = batchmaker(way,trainshot,testshot,theset)\n",
    "        embeds,_ = embed(s,.5)\n",
    "        qembeds,_ = embed(q,.5)\n",
    "        preds = model(embeds,qembeds,way)\n",
    "        \n",
    "        # Val loss\n",
    "        loss = criterion(preds,qt)\n",
    "        losstracker += loss.data[0]\n",
    "        \n",
    "        # Val accuracy\n",
    "        _,bins = torch.max(preds,1)\n",
    "        acc = torch.sum(torch.eq(bins,qt)).data[0]/testshot/way\n",
    "        acctracker += acc\n",
    "        acclist.append(acc)\n",
    "    return losstracker/reps,acctracker/reps\n",
    "\n",
    "way = 20\n",
    "evalway = 5\n",
    "trainshot = 5\n",
    "testshot = 15\n",
    "reps = 100"
   ]
  },
  {
   "cell_type": "code",
   "execution_count": 46,
   "metadata": {},
   "outputs": [
    {
     "name": "stdout",
     "output_type": "stream",
     "text": [
      "113088  parameters in neural net.\n"
     ]
    }
   ],
   "source": [
    "embed = ENCODER().cuda()\n",
    "model = PREDICTOR().cuda()\n",
    "r = REGULATOR()\n",
    "losstracker,rlosstracker,evallosstracker,evalacctracker = [],[],[],[]\n",
    "optimizer = None\n",
    "nweights = sum([i.numel() for i in list(embed.parameters())])\n",
    "print(nweights,\" parameters in neural net.\")"
   ]
  },
  {
   "cell_type": "code",
   "execution_count": 47,
   "metadata": {},
   "outputs": [
    {
     "data": {
      "image/png": "[encoded data removed]",
      "text/plain": [
       "<matplotlib.figure.Figure at 0x7fabc87919e8>"
      ]
     },
     "metadata": {},
     "output_type": "display_data"
    },
    {
     "name": "stdout",
     "output_type": "stream",
     "text": [
      "Train loss is: 0.9768742471933365\n",
      "Mask cos dist is: 0.4304590559005737\n",
      "\n",
      "Validation accuracy is: 0.6447999999999999\n",
      "Validation loss is: 0.9428223770856857\n",
      "\n",
      "1317.9659888744354\n"
     ]
    }
   ],
   "source": [
    "# TRAIN!\n",
    "criterion = nn.NLLLoss()\n",
    "vbity = 200\n",
    "epoch = 2000\n",
    "start = time.time()\n",
    "\n",
    "runningloss = 0\n",
    "runningrloss = 0\n",
    "for it in range(5*epoch):\n",
    "    if it%10==0:\n",
    "        print(it)\n",
    "    \n",
    "    # Build batch\n",
    "    support, _, _, query, qmask, targs = batchmaker(way,trainshot,testshot,trainset,alterful=True)\n",
    "    \n",
    "    # Predict\n",
    "    embed.zero_grad()\n",
    "    model.zero_grad()\n",
    "    embeds,_ = embed(support,.5)\n",
    "    qembeds,bf = embed(query,qmask)\n",
    "    preds = model(embeds,qembeds,way)\n",
    "\n",
    "    # Calculate Loss\n",
    "    loss = criterion(preds, targs)\n",
    "    runningloss += loss.data[0]\n",
    "    rloss = torch.mean(r(embeds,bf,way))\n",
    "    runningrloss -= rloss.data[0]\n",
    "    rloss = torch.log1p(rloss)\n",
    "    \n",
    "    # Backprop\n",
    "    if it%epoch == 0:\n",
    "        optimizer = optim.Adam(embed.parameters(),lr=.001/(2**(it//epoch)))\n",
    "    totalloss = (2*loss+rloss)/3\n",
    "    totalloss.backward()\n",
    "#     nn.utils.clip_grad_norm(model.parameters(), 1)\n",
    "    optimizer.step()\n",
    "    \n",
    "    # Report\n",
    "    if it%vbity == vbity-1:\n",
    "        display.clear_output(wait=True)\n",
    "\n",
    "        losstracker.append(runningloss/vbity)\n",
    "        rlosstracker.append(runningrloss/vbity)\n",
    "        embed = embed.eval()\n",
    "        evalloss, evalacc = evaluate(embed,model,criterion,evalway,trainshot,testshot,reps,testset)\n",
    "        embed = embed.train()\n",
    "        evallosstracker.append(evalloss)\n",
    "        evalacctracker.append(evalacc)\n",
    "        \n",
    "        pl.figure(1,figsize=(15,5))\n",
    "        pl.subplot(1,2,1)\n",
    "        pl.plot(losstracker)\n",
    "        pl.plot(evallosstracker)\n",
    "        pl.plot(rlosstracker)\n",
    "        pl.ylim((0,3))\n",
    "        pl.title(\"Loss: Training Blue, Validation Gold, R Term Green\")\n",
    "        pl.subplot(1,2,2)\n",
    "        pl.plot(evalacctracker[::-1])\n",
    "        pl.ylim((0.3,.8))\n",
    "        pl.title(\"Validation Acc\")\n",
    "        pl.show()\n",
    "        \n",
    "        print(\"Train loss is: \"+str(runningloss/vbity)+\n",
    "              \"\\nMask cos dist is: \"+str(runningrloss/vbity)+\n",
    "              \"\\n\\nValidation accuracy is: \"+str(evalacc)+\n",
    "              \"\\nValidation loss is: \"+str(evalloss)+\"\\n\")\n",
    "        runningloss = 0\n",
    "        runningrloss = 0\n",
    "        print(time.time()-start)\n",
    "\n",
    "# MORE RECENT TEST\n",
    "        "
   ]
  },
  {
   "cell_type": "code",
   "execution_count": null,
   "metadata": {
    "collapsed": true
   },
   "outputs": [],
   "source": []
  },
  {
   "cell_type": "code",
   "execution_count": null,
   "metadata": {
    "collapsed": true
   },
   "outputs": [],
   "source": []
  },
  {
   "cell_type": "code",
   "execution_count": null,
   "metadata": {
    "collapsed": true
   },
   "outputs": [],
   "source": []
  },
  {
   "cell_type": "code",
   "execution_count": 45,
   "metadata": {},
   "outputs": [
    {
     "name": "stdout",
     "output_type": "stream",
     "text": [
      "(0.9443232418596744, 0.6357777777777778)\n"
     ]
    }
   ],
   "source": [
    "criterion = nn.NLLLoss().cuda()\n",
    "embed = embed.eval()\n",
    "print(evaluate(embed,model,criterion,evalway,trainshot,testshot*3,200,testset))\n",
    "embed = embed.train()"
   ]
  },
  {
   "cell_type": "code",
   "execution_count": 10,
   "metadata": {},
   "outputs": [
    {
     "data": {
      "text/plain": [
       "0.01318637251104336"
      ]
     },
     "execution_count": 10,
     "metadata": {},
     "output_type": "execute_result"
    }
   ],
   "source": [
    "1.96*np.sqrt(.0090525/200)"
   ]
  },
  {
   "cell_type": "code",
   "execution_count": 41,
   "metadata": {},
   "outputs": [
    {
     "data": {
      "text/plain": [
       "0.5500666666666667"
      ]
     },
     "execution_count": 41,
     "metadata": {},
     "output_type": "execute_result"
    }
   ],
   "source": [
    "np.mean(evalacctracker[-50:])"
   ]
  },
  {
   "cell_type": "code",
   "execution_count": 19,
   "metadata": {},
   "outputs": [
    {
     "name": "stderr",
     "output_type": "stream",
     "text": [
      "/home/dww78/anaconda3/lib/python3.6/site-packages/torch/serialization.py:147: UserWarning: Couldn't retrieve source code for container of type ENCODER. It won't be checked for correctness upon loading.\n",
      "  \"type \" + obj.__name__ + \". It won't be checked \"\n",
      "/home/dww78/anaconda3/lib/python3.6/site-packages/torch/serialization.py:147: UserWarning: Couldn't retrieve source code for container of type Block. It won't be checked for correctness upon loading.\n",
      "  \"type \" + obj.__name__ + \". It won't be checked \"\n",
      "/home/dww78/anaconda3/lib/python3.6/site-packages/torch/serialization.py:147: UserWarning: Couldn't retrieve source code for container of type PREDICTOR. It won't be checked for correctness upon loading.\n",
      "  \"type \" + obj.__name__ + \". It won't be checked \"\n"
     ]
    }
   ],
   "source": [
    "name = 'naive_full'\n",
    "torch.save((embed,model,losstracker,evallosstracker,evalacctracker),'saved_models/'+name+'.pth')\n",
    "torch.save(embed.cpu().state_dict(),'saved_models/'+name+'_cpu.pth')"
   ]
  },
  {
   "cell_type": "code",
   "execution_count": 16,
   "metadata": {
    "collapsed": true
   },
   "outputs": [],
   "source": [
    "embed,model,losstracker,evallosstracker,evalacctracker = torch.load('saved_models/naive_4.pth')"
   ]
  },
  {
   "cell_type": "code",
   "execution_count": null,
   "metadata": {
    "collapsed": true
   },
   "outputs": [],
   "source": [
    "Paper model achieves (over last 1000):\n",
    "    0.71156711111111126\n",
    "after 188500 iters"
   ]
  },
  {
   "cell_type": "code",
   "execution_count": null,
   "metadata": {
    "collapsed": true
   },
   "outputs": [],
   "source": []
  },
  {
   "cell_type": "code",
   "execution_count": null,
   "metadata": {
    "collapsed": true
   },
   "outputs": [],
   "source": []
  },
  {
   "cell_type": "code",
   "execution_count": 213,
   "metadata": {},
   "outputs": [
    {
     "data": {
      "text/plain": [
       "Variable containing:\n",
       "-6.7075e-03 -5.0079e+00 -2.7911e+01\n",
       "-2.9057e+00 -5.6263e-02 -4.5704e+01\n",
       "-1.8272e+01 -4.3870e+01 -1.1600e-08\n",
       "[torch.FloatTensor of size 3x3]"
      ]
     },
     "execution_count": 213,
     "metadata": {},
     "output_type": "execute_result"
    }
   ],
   "source": [
    "support = supportmaker(nclass,shot)\n",
    "inp = inpmaker(nclass)\n",
    "embeds = embed(support)\n",
    "query = embed(inp)\n",
    "model(embeds,query)"
   ]
  }
 ],
 "metadata": {
  "kernelspec": {
   "display_name": "Python 3",
   "language": "python",
   "name": "python3"
  },
  "language_info": {
   "codemirror_mode": {
    "name": "ipython",
    "version": 3
   },
   "file_extension": ".py",
   "mimetype": "text/x-python",
   "name": "python",
   "nbconvert_exporter": "python",
   "pygments_lexer": "ipython3",
   "version": "3.6.3"
  }
 },
 "nbformat": 4,
 "nbformat_minor": 2
}
