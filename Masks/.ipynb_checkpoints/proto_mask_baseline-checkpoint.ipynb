{
 "cells": [
  {
   "cell_type": "code",
   "execution_count": 1,
   "metadata": {
    "collapsed": true
   },
   "outputs": [],
   "source": [
    "import numpy as np\n",
    "import math\n",
    "import random\n",
    "import torch\n",
    "import torch.nn as nn\n",
    "import torch.nn.functional as F\n",
    "import torch.optim as optim\n",
    "import torch.autograd as autograd\n",
    "import torchvision.transforms as transforms\n",
    "from torch.autograd import Variable\n",
    "from torch.nn.parameter import Parameter\n",
    "\n",
    "%matplotlib inline\n",
    "import pylab as pl\n",
    "from IPython import display\n",
    "import time"
   ]
  },
  {
   "cell_type": "code",
   "execution_count": 8,
   "metadata": {
    "collapsed": true
   },
   "outputs": [],
   "source": [
    "class Block(nn.Module):\n",
    "    def __init__(self, insize, outsize):\n",
    "        super(Block, self).__init__()\n",
    "        self.layers = nn.Sequential(\n",
    "            nn.Conv2d(insize, outsize, kernel_size=3, padding=1),\n",
    "            nn.BatchNorm2d(outsize),\n",
    "            nn.ReLU()\n",
    "        )\n",
    "        \n",
    "    def forward(self, inp):\n",
    "        return self.layers(inp)\n",
    "\n",
    "class ENCODER(nn.Module):\n",
    "    def __init__(self):\n",
    "        super(ENCODER, self).__init__()\n",
    "        self.process = nn.Sequential(\n",
    "            Block(3,64),\n",
    "            nn.MaxPool2d(2),\n",
    "            Block(64,64),\n",
    "            nn.MaxPool2d(2),\n",
    "            Block(64,64),\n",
    "            nn.MaxPool2d(2),\n",
    "            Block(64,64),\n",
    "            nn.AvgPool2d(10)\n",
    "        )\n",
    "#         self.block1 = Block(3,64)\n",
    "#         self.block2 = Block(64,64)\n",
    "#         self.block3 = Block(64,64)\n",
    "#         self.block4 = Block(64,64)\n",
    "#         self.final = nn.Conv2d(64,64, kernel_size=1, padding=0)\n",
    "        \n",
    "    def forward(self, inp):\n",
    "        out = self.process(inp[:,:3,:,:])\n",
    "#         out = self.block1(inp[:,:3,:,:])\n",
    "#         out = self.block2(out)\n",
    "#         out = self.block3(out)\n",
    "#         out = self.block4(out)\n",
    "#         out = self.final(out)\n",
    "        return out.view(out.size(0),-1)\n",
    "    \n",
    "class PREDICTOR(nn.Module):\n",
    "    def __init__(self):\n",
    "        super(PREDICTOR, self).__init__()\n",
    "        self.sm = nn.LogSoftmax(dim=-1)\n",
    "        \n",
    "    def forward(self, support, inp, way):\n",
    "        assert support.size(0)%way == 0,\"Error: classes are not the same size!\"\n",
    "        support = support.view(way,support.size(0)//way,-1)\n",
    "        centroids = torch.mean(support, 1).view(support.size(0),-1)\n",
    "#         temp1 = torch.stack([centroids]*inp.size(0))\n",
    "#         temp2 = torch.stack([inp]*centroids.size(0)).transpose(0,1)\n",
    "#         print(temp1.size(),temp2.size())\n",
    "        distmat = torch.sum((centroids.unsqueeze(0)-inp.unsqueeze(1))**2,2).squeeze()*-1\n",
    "        probs = self.sm(distmat)\n",
    "        return probs"
   ]
  },
  {
   "cell_type": "code",
   "execution_count": 3,
   "metadata": {
    "collapsed": true
   },
   "outputs": [],
   "source": [
    "raw = torch.load('/data/imagenet/photos-annotated-0.pth')\n",
    "preprocess = transforms.Compose([\n",
    "    transforms.ToTensor(),\n",
    "    transforms.Normalize(mean=[.485,.456,.406],std=[.229,.224,.225])])\n",
    "dataset = [[torch.cat([preprocess(r[1]),torch.Tensor(r[2]).unsqueeze(0)],dim=0) for r in cat] for cat in raw]\n",
    "trainset = dataset[:64]\n",
    "testset = dataset[-20:]\n"
   ]
  },
  {
   "cell_type": "code",
   "execution_count": 4,
   "metadata": {
    "collapsed": true
   },
   "outputs": [],
   "source": [
    "def flip(x, dim):\n",
    "    dim = x.dim() + dim if dim < 0 else dim\n",
    "    return x[tuple(slice(None, None) if i != dim\n",
    "             else torch.arange(x.size(i)-1, -1, -1).long()\n",
    "             for i in range(x.dim()))]\n",
    "\n",
    "def alter(t):\n",
    "    if bool(random.getrandbits(1)):\n",
    "        return t\n",
    "    else:\n",
    "        return flip(t,-1)\n",
    "\n",
    "def batchmaker(way,trainshot,testshot,theset,alterful=False):\n",
    "    classes = np.random.choice(len(theset),way,replace=False)\n",
    "    if alterful:\n",
    "        li = [torch.cat([alter(theset[cl][i]).view(1,4,84,84) for i in \n",
    "                         np.random.choice(len(theset[cl]),trainshot+testshot,replace=False)],dim=0).float()\n",
    "              for cl in classes]\n",
    "    else:\n",
    "        li = [torch.cat([theset[cl][i].view(1,4,84,84) for i in \n",
    "                         np.random.choice(len(theset[cl]),trainshot+testshot,replace=False)],dim=0).float()\n",
    "              for cl in classes]\n",
    "    support = torch.cat([t[:trainshot,:,:,:] for t in li],dim=0)\n",
    "    stargs = torch.LongTensor([i//trainshot for i in range(trainshot*way)])\n",
    "    query = torch.cat([t[trainshot:,:,:,:] for t in li],dim=0)\n",
    "    qtargs = torch.LongTensor([i//testshot for i in range(testshot*way)])\n",
    "#     print(support.size(),query.size())\n",
    "    return(Variable(support).cuda(),\n",
    "           Variable(query, volatile=(not alterful)).cuda(),\n",
    "           Variable(qtargs, volatile=(not alterful)).cuda(),\n",
    "           Variable(stargs).cuda()\n",
    "          )\n",
    "\n",
    "def evaluate(embed,model,criterion,way,trainshot,testshot,reps,theset):\n",
    "    losstracker = 0\n",
    "    acctracker = 0\n",
    "    acclist = []\n",
    "    for i in range(reps):\n",
    "        s,q,qt,st = batchmaker(way,trainshot,testshot,theset)\n",
    "        embeds = embed(s)\n",
    "        qembeds = embed(q)\n",
    "        preds = model(embeds,qembeds,way)\n",
    "        \n",
    "        # Val loss\n",
    "        loss = criterion(preds,qt)\n",
    "        losstracker += loss.data[0]\n",
    "        \n",
    "        # Val accuracy\n",
    "        _,bins = torch.max(preds,1)\n",
    "        acc = torch.sum(torch.eq(bins,qt)).data[0]/testshot/way\n",
    "        acctracker += acc\n",
    "        acclist.append(acc)\n",
    "    return losstracker/reps,acctracker/reps,np.var(acclist)\n",
    "\n",
    "way = 20\n",
    "evalway = 5\n",
    "trainshot = 5\n",
    "testshot = 15\n",
    "reps = 100"
   ]
  },
  {
   "cell_type": "code",
   "execution_count": 5,
   "metadata": {
    "collapsed": true
   },
   "outputs": [],
   "source": [
    "torch.cuda.set_device(1)"
   ]
  },
  {
   "cell_type": "code",
   "execution_count": 9,
   "metadata": {},
   "outputs": [
    {
     "name": "stdout",
     "output_type": "stream",
     "text": [
      "113088  parameters in neural net.\n"
     ]
    }
   ],
   "source": [
    "embed = ENCODER().cuda()\n",
    "model = PREDICTOR().cuda()\n",
    "losstracker,evallosstracker,evalacctracker = [],[],[]\n",
    "optimizer = None\n",
    "nweights = sum([i.numel() for i in list(embed.parameters())])\n",
    "print(nweights,\" parameters in neural net.\")"
   ]
  },
  {
   "cell_type": "code",
   "execution_count": null,
   "metadata": {},
   "outputs": [
    {
     "data": {
      "image/png": "[encoded data removed]",
      "text/plain": [
       "<matplotlib.figure.Figure at 0x7f6108878f28>"
      ]
     },
     "metadata": {},
     "output_type": "display_data"
    },
    {
     "name": "stdout",
     "output_type": "stream",
     "text": [
      "Train loss is: 1.9535334229469299\n",
      "Validation accuracy is: 0.5290666666666664\n",
      "Validation loss is: 1.1911666691303253\n",
      "\n",
      "1122.7717325687408\n",
      "1400\n",
      "1410\n",
      "1420\n",
      "1430\n",
      "1440\n",
      "1450\n"
     ]
    }
   ],
   "source": [
    "# TRAIN!\n",
    "criterion = nn.NLLLoss().cuda()\n",
    "vbity = 200\n",
    "epoch = 2000\n",
    "start = time.time()\n",
    "\n",
    "runningloss = 0\n",
    "for it in range(10*epoch):\n",
    "    if it%10==0:\n",
    "        print(it)\n",
    "    \n",
    "    # Build batch\n",
    "    support, query, targs, _ = batchmaker(way,trainshot,testshot,trainset,alterful=True)\n",
    "    \n",
    "    # Predict\n",
    "    embed.zero_grad()\n",
    "    model.zero_grad()\n",
    "    embeds = embed(support)\n",
    "    qembeds = embed(query)\n",
    "    preds = model(embeds,qembeds,way)\n",
    "\n",
    "    # Calculate Loss\n",
    "    loss = criterion(preds, targs)\n",
    "    runningloss += loss.data[0]\n",
    "    \n",
    "    # Backprop\n",
    "    if it%epoch == 0:\n",
    "        optimizer = optim.Adam(embed.parameters(),lr=.001/(2**(it//epoch)))\n",
    "    loss.backward()\n",
    "#     nn.utils.clip_grad_norm(model.parameters(), 1)\n",
    "    optimizer.step()\n",
    "    \n",
    "    # Report\n",
    "    if it%vbity == vbity-1:\n",
    "        display.clear_output(wait=True)\n",
    "\n",
    "        losstracker.append(runningloss/vbity)\n",
    "        embed = embed.eval()\n",
    "        evalloss, evalacc, _ = evaluate(embed,model,criterion,evalway,trainshot,testshot,reps,testset)\n",
    "        embed = embed.train()\n",
    "        evallosstracker.append(evalloss)\n",
    "        evalacctracker.append(evalacc)\n",
    "        \n",
    "        pl.figure(1,figsize=(15,5))\n",
    "        pl.subplot(1,2,1)\n",
    "        pl.plot(losstracker)\n",
    "        pl.plot(evallosstracker)\n",
    "        pl.ylim((.5,3))\n",
    "        pl.title(\"Loss: Training Blue, Validation Gold\")\n",
    "        pl.subplot(1,2,2)\n",
    "        pl.plot(evalacctracker[::-1])\n",
    "        pl.ylim((0.3,.8))\n",
    "        pl.title(\"Validation Acc\")\n",
    "        pl.show()\n",
    "        \n",
    "        print(\"Train loss is: \"+str(runningloss/vbity)+\n",
    "              \"\\nValidation accuracy is: \"+str(evalacc)+\n",
    "              \"\\nValidation loss is: \"+str(evalloss)+\"\\n\")\n",
    "        runningloss = 0\n",
    "        print(time.time()-start)\n",
    "\n",
    "# MORE RECENT TEST\n",
    "        "
   ]
  },
  {
   "cell_type": "code",
   "execution_count": 11,
   "metadata": {},
   "outputs": [
    {
     "name": "stdout",
     "output_type": "stream",
     "text": [
      "(1.0985408502817153, 0.5669999999999998, 0.0065061604938271601)\n"
     ]
    }
   ],
   "source": [
    "criterion = nn.NLLLoss().cuda()\n",
    "embed = embed.eval()\n",
    "print(evaluate(embed,model,criterion,evalway,trainshot,testshot*3,200,testset))\n",
    "embed = embed.train()"
   ]
  },
  {
   "cell_type": "code",
   "execution_count": 10,
   "metadata": {},
   "outputs": [
    {
     "data": {
      "text/plain": [
       "0.01318637251104336"
      ]
     },
     "execution_count": 10,
     "metadata": {},
     "output_type": "execute_result"
    }
   ],
   "source": [
    "1.96*np.sqrt(.0090525/200)"
   ]
  },
  {
   "cell_type": "code",
   "execution_count": 10,
   "metadata": {},
   "outputs": [
    {
     "data": {
      "text/plain": [
       "0.56243733333333346"
      ]
     },
     "execution_count": 10,
     "metadata": {},
     "output_type": "execute_result"
    }
   ],
   "source": [
    "np.mean(evalacctracker[-50:])"
   ]
  },
  {
   "cell_type": "code",
   "execution_count": 19,
   "metadata": {},
   "outputs": [
    {
     "name": "stderr",
     "output_type": "stream",
     "text": [
      "/home/dww78/anaconda3/lib/python3.6/site-packages/torch/serialization.py:147: UserWarning: Couldn't retrieve source code for container of type ENCODER. It won't be checked for correctness upon loading.\n",
      "  \"type \" + obj.__name__ + \". It won't be checked \"\n",
      "/home/dww78/anaconda3/lib/python3.6/site-packages/torch/serialization.py:147: UserWarning: Couldn't retrieve source code for container of type Block. It won't be checked for correctness upon loading.\n",
      "  \"type \" + obj.__name__ + \". It won't be checked \"\n",
      "/home/dww78/anaconda3/lib/python3.6/site-packages/torch/serialization.py:147: UserWarning: Couldn't retrieve source code for container of type PREDICTOR. It won't be checked for correctness upon loading.\n",
      "  \"type \" + obj.__name__ + \". It won't be checked \"\n"
     ]
    }
   ],
   "source": [
    "name = 'naive_full'\n",
    "torch.save((embed,model,losstracker,evallosstracker,evalacctracker),'saved_models/'+name+'.pth')\n",
    "torch.save(embed.cpu().state_dict(),'saved_models/'+name+'_cpu.pth')"
   ]
  },
  {
   "cell_type": "code",
   "execution_count": 16,
   "metadata": {
    "collapsed": true
   },
   "outputs": [],
   "source": [
    "embed,model,losstracker,evallosstracker,evalacctracker = torch.load('saved_models/naive_4.pth')"
   ]
  },
  {
   "cell_type": "code",
   "execution_count": null,
   "metadata": {
    "collapsed": true
   },
   "outputs": [],
   "source": [
    "Paper model achieves (over last 1000):\n",
    "    0.71156711111111126\n",
    "after 188500 iters"
   ]
  },
  {
   "cell_type": "code",
   "execution_count": null,
   "metadata": {
    "collapsed": true
   },
   "outputs": [],
   "source": []
  },
  {
   "cell_type": "code",
   "execution_count": null,
   "metadata": {
    "collapsed": true
   },
   "outputs": [],
   "source": []
  },
  {
   "cell_type": "code",
   "execution_count": 213,
   "metadata": {},
   "outputs": [
    {
     "data": {
      "text/plain": [
       "Variable containing:\n",
       "-6.7075e-03 -5.0079e+00 -2.7911e+01\n",
       "-2.9057e+00 -5.6263e-02 -4.5704e+01\n",
       "-1.8272e+01 -4.3870e+01 -1.1600e-08\n",
       "[torch.FloatTensor of size 3x3]"
      ]
     },
     "execution_count": 213,
     "metadata": {},
     "output_type": "execute_result"
    }
   ],
   "source": [
    "support = supportmaker(nclass,shot)\n",
    "inp = inpmaker(nclass)\n",
    "embeds = embed(support)\n",
    "query = embed(inp)\n",
    "model(embeds,query)"
   ]
  }
 ],
 "metadata": {
  "kernelspec": {
   "display_name": "Python 3",
   "language": "python",
   "name": "python3"
  },
  "language_info": {
   "codemirror_mode": {
    "name": "ipython",
    "version": 3
   },
   "file_extension": ".py",
   "mimetype": "text/x-python",
   "name": "python",
   "nbconvert_exporter": "python",
   "pygments_lexer": "ipython3",
   "version": "3.6.3"
  }
 },
 "nbformat": 4,
 "nbformat_minor": 2
}
