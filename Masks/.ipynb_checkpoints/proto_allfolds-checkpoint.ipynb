{
 "cells": [
  {
   "cell_type": "code",
   "execution_count": 1,
   "metadata": {},
   "outputs": [],
   "source": [
    "import numpy as np\n",
    "import math\n",
    "import random\n",
    "import torch\n",
    "import torch.nn as nn\n",
    "import torch.nn.functional as F\n",
    "import torch.optim as optim\n",
    "import torch.autograd as autograd\n",
    "import torchvision.transforms as transforms\n",
    "from torch.autograd import Variable\n",
    "from torch.nn.parameter import Parameter\n",
    "from scipy.misc import imresize\n",
    "\n",
    "%matplotlib inline\n",
    "import pylab as pl\n",
    "from IPython import display\n",
    "import time\n",
    "\n",
    "torch.cuda.set_device(2)"
   ]
  },
  {
   "cell_type": "code",
   "execution_count": 2,
   "metadata": {},
   "outputs": [],
   "source": [
    "class Block(nn.Module):\n",
    "    def __init__(self, insize, outsize):\n",
    "        super(Block, self).__init__()\n",
    "        self.layers = nn.Sequential(\n",
    "            nn.Conv2d(insize, outsize, kernel_size=3, padding=1),\n",
    "            nn.BatchNorm2d(outsize),\n",
    "            nn.ReLU()\n",
    "        )\n",
    "        \n",
    "    def forward(self, inp):\n",
    "        return self.layers(inp)\n",
    "\n",
    "class ENCODER(nn.Module):\n",
    "    def __init__(self):\n",
    "        super(ENCODER, self).__init__()\n",
    "        self.process = nn.Sequential(\n",
    "            Block(3,64),\n",
    "            nn.MaxPool2d(2),\n",
    "            Block(64,64),\n",
    "            nn.MaxPool2d(2),\n",
    "            Block(64,64),\n",
    "            nn.MaxPool2d(2),\n",
    "            Block(64,64),\n",
    "            nn.AvgPool2d(10)\n",
    "        )\n",
    "#         self.block1 = Block(3,64)\n",
    "#         self.block2 = Block(64,64)\n",
    "#         self.block3 = Block(64,64)\n",
    "#         self.block4 = Block(64,64)\n",
    "#         self.final = nn.Conv2d(64,64, kernel_size=1, padding=0)\n",
    "        \n",
    "    def forward(self, inp):\n",
    "        out = self.process(inp[:,:3,:,:])\n",
    "#         out = self.block1(inp[:,:3,:,:])\n",
    "#         out = self.block2(out)\n",
    "#         out = self.block3(out)\n",
    "#         out = self.block4(out)\n",
    "#         out = self.final(out)\n",
    "        return out.view(out.size(0),-1)\n",
    "    \n",
    "class PREDICTOR(nn.Module):\n",
    "    def __init__(self):\n",
    "        super(PREDICTOR, self).__init__()\n",
    "        self.sm = nn.LogSoftmax(dim=-1)\n",
    "        \n",
    "    def forward(self, support, query, way):\n",
    "        assert support.size(0)%way == 0,\"Error: classes are not the same size!\"\n",
    "        shot = support.size(0)//way\n",
    "        support = support.view(way,shot,-1)\n",
    "        centroids = torch.mean(support, 1).view(support.size(0),-1)\n",
    "        if self.training:\n",
    "            centroids = centroids.unsqueeze(0).unsqueeze(0) # w 1 1 d\n",
    "            support = support.unsqueeze(2) # w s 1 d\n",
    "            eye = torch.eye(way).unsqueeze(1).unsqueeze(-1).cuda()/shot # w 1 w 1\n",
    "            realc = centroids - support*eye # w s w d\n",
    "            distmat = torch.sum((realc-support)**2, -1).squeeze().view(-1,way).neg()\n",
    "        else:\n",
    "            distmat = torch.sum((centroids.unsqueeze(0)-query.unsqueeze(1))**2,2).squeeze().neg()\n",
    "        probs = self.sm(distmat)\n",
    "        return probs"
   ]
  },
  {
   "cell_type": "code",
   "execution_count": 3,
   "metadata": {},
   "outputs": [
    {
     "name": "stderr",
     "output_type": "stream",
     "text": [
      "/home/dww78/anaconda3/lib/python3.6/site-packages/ipykernel_launcher.py:6: DeprecationWarning: `imresize` is deprecated!\n",
      "`imresize` is deprecated in SciPy 1.0.0, and will be removed in 1.2.0.\n",
      "Use ``skimage.transform.resize`` instead.\n",
      "  \n",
      "/home/dww78/anaconda3/lib/python3.6/site-packages/ipykernel_launcher.py:9: DeprecationWarning: `imresize` is deprecated!\n",
      "`imresize` is deprecated in SciPy 1.0.0, and will be removed in 1.2.0.\n",
      "Use ``skimage.transform.resize`` instead.\n",
      "  if __name__ == '__main__':\n"
     ]
    }
   ],
   "source": [
    "preprocess = transforms.Compose([\n",
    "    transforms.ToTensor(),\n",
    "    transforms.Normalize(mean=[.485,.456,.406],std=[.229,.224,.225])])\n",
    "raw = torch.load('/data/imagenet/photos-annotated-0-augmented.pth')\n",
    "trainset = [[[preprocess(r[1]),torch.Tensor(imresize(r[2],(10,10))).unsqueeze(0)/255] \n",
    "            for r in cat] for cat in raw]\n",
    "raw = torch.load('/data/imagenet/photos-annotated-0-test.pth')\n",
    "testset = [[[preprocess(r[1]),torch.Tensor(imresize(r[2],(10,10))).unsqueeze(0)/255] \n",
    "            for r in cat] for cat in raw]\n",
    "del raw"
   ]
  },
  {
   "cell_type": "code",
   "execution_count": 7,
   "metadata": {},
   "outputs": [],
   "source": [
    "def batchmaker(way,trainshot,theset):\n",
    "    classes = np.random.choice(len(theset),way,replace=False)\n",
    "    li = [[[theset[cl][i][0].view(1,3,84,84),theset[cl][i][1].view(1,10,10)] for i in \n",
    "           np.random.choice(len(theset[cl]),trainshot,replace=False)]\n",
    "          for cl in classes]\n",
    "    support = torch.cat([torch.cat([p[0] for p in t],dim=0) for t in li],dim=0)\n",
    "    stargs = torch.LongTensor([i//trainshot for i in range(trainshot*way)])\n",
    "    return(Variable(support).cuda(),\n",
    "           Variable(stargs).cuda(),\n",
    "          )\n",
    "def evalmaker(way,trainshot,testshot,theset):\n",
    "    classes = np.random.choice(len(theset),way,replace=False)\n",
    "    li = [[[theset[cl][i][0].view(1,3,84,84),theset[cl][i][1].view(1,10,10)] for i in \n",
    "           np.random.choice(len(theset[cl]),trainshot+testshot,replace=False)]\n",
    "          for cl in classes]\n",
    "    support = torch.cat([torch.cat([p[0] for p in t[:trainshot]],dim=0) for t in li],dim=0)\n",
    "    stargs = torch.LongTensor([i//trainshot for i in range(trainshot*way)])\n",
    "    query = torch.cat([torch.cat([p[0] for p in t[trainshot:]],dim=0) for t in li],dim=0)\n",
    "    qtargs = torch.LongTensor([i//testshot for i in range(testshot*way)])\n",
    "    return(Variable(support).cuda(),\n",
    "           Variable(query).cuda(),\n",
    "           Variable(qtargs).cuda()\n",
    "          )\n",
    "\n",
    "def evaluate(embed,model,criterion,way,trainshot,testshot,reps,theset):\n",
    "    embed.eval()\n",
    "    model.eval()\n",
    "    losstracker = 0\n",
    "    acctracker = 0\n",
    "    acclist = []\n",
    "    for i in range(reps):\n",
    "        with torch.no_grad():\n",
    "            s,q,qt = evalmaker(way,trainshot,testshot,theset)\n",
    "            embeds = embed(s)\n",
    "            qembeds = embed(q)\n",
    "            preds = model(embeds,qembeds,way)\n",
    "\n",
    "            # Val loss\n",
    "            loss = criterion(preds,qt)\n",
    "            losstracker += loss.data[0]\n",
    "\n",
    "            # Val accuracy\n",
    "            _,bins = torch.max(preds,1)\n",
    "            acc = torch.sum(torch.eq(bins,qt)).item()/testshot/way\n",
    "            acctracker += acc\n",
    "            acclist.append(acc)\n",
    "    embed.train()\n",
    "    model.train()\n",
    "    return losstracker.item()/reps,acctracker/reps,np.sqrt(np.var(acclist)/reps)*1.96\n",
    "\n",
    "trainway = 64\n",
    "trainshot = 3\n",
    "evalway = 5\n",
    "evaltrainshot = 5\n",
    "evaltestshot = 15\n",
    "reps = 100"
   ]
  },
  {
   "cell_type": "code",
   "execution_count": 8,
   "metadata": {},
   "outputs": [
    {
     "name": "stdout",
     "output_type": "stream",
     "text": [
      "113088  parameters in neural net.\n"
     ]
    }
   ],
   "source": [
    "embed = ENCODER().cuda()\n",
    "model = PREDICTOR().cuda()\n",
    "embed.train()\n",
    "model.train()\n",
    "losstracker,evallosstracker,evalacctracker = [],[],[]\n",
    "optimizer = None\n",
    "nweights = sum([i.numel() for i in list(embed.parameters())])\n",
    "print(nweights,\" parameters in neural net.\")"
   ]
  },
  {
   "cell_type": "code",
   "execution_count": 9,
   "metadata": {},
   "outputs": [
    {
     "data": {
      "image/png": "[encoded data removed]",
      "text/plain": [
       "<Figure size 1080x360 with 2 Axes>"
      ]
     },
     "metadata": {},
     "output_type": "display_data"
    },
    {
     "name": "stdout",
     "output_type": "stream",
     "text": [
      "Train loss is: 2.1927992248535157\n",
      "Validation accuracy is: 0.6558666666666667\n",
      "Validation loss is: 0.8799640655517578\n",
      "\n",
      "7954.019838094711\n",
      "[0.6593960000000796, 0.6612493333334127, 0.6648853333334149, 0.6613386666667477, 0.6686506666667514, 0.6727880000000854, 0.6594173333334142, 0.6591586666667476, 0.6690773333334176]\n",
      "0.00 hours to completion\n",
      "[0.6593960000000796, 0.6612493333334127, 0.6648853333334149, 0.6613386666667477, 0.6686506666667514, 0.6727880000000854, 0.6594173333334142, 0.6591586666667476, 0.6690773333334176, 0.6690280000000846] 0.6644989333334156 0.002962760487365878\n"
     ]
    }
   ],
   "source": [
    "# TRAIN!\n",
    "criterion = nn.NLLLoss().cuda()\n",
    "vbity = 200\n",
    "epoch = 2000\n",
    "start = time.time()\n",
    "ensemble = 10\n",
    "\n",
    "allacc = []\n",
    "for e in range(ensemble):\n",
    "    runningloss = 0\n",
    "    embed = ENCODER().cuda()\n",
    "    model = PREDICTOR().cuda()\n",
    "    embed.train()\n",
    "    model.train()\n",
    "    losstracker,evallosstracker,evalacctracker = [],[],[]\n",
    "    optimizer = None\n",
    "    for it in range(5*epoch):\n",
    "        if it%10==0:\n",
    "            print(it)\n",
    "\n",
    "        # Build batch\n",
    "        support, targs = batchmaker(trainway,trainshot,trainset)\n",
    "\n",
    "        # Predict\n",
    "        embed.zero_grad()\n",
    "        model.zero_grad()\n",
    "        embeds = embed(support)\n",
    "        preds = model(embeds,None,trainway)\n",
    "\n",
    "        # Calculate Loss\n",
    "        loss = criterion(preds, targs)\n",
    "        runningloss += loss\n",
    "\n",
    "        # Backprop\n",
    "        if it%epoch == 0:\n",
    "            optimizer = optim.Adam(embed.parameters(),lr=.001/(2**(it//epoch)))\n",
    "        loss.backward()\n",
    "    #     nn.utils.clip_grad_norm(model.parameters(), 1)\n",
    "        optimizer.step()\n",
    "\n",
    "        # Report\n",
    "        if it%vbity == vbity-1:\n",
    "            display.clear_output(wait=True)\n",
    "\n",
    "            losstracker.append(runningloss.item()/vbity)\n",
    "            evalloss, evalacc, _ = evaluate(embed,model,criterion,evalway,evaltrainshot,evaltestshot,reps,testset)\n",
    "            evallosstracker.append(evalloss)\n",
    "            evalacctracker.append(evalacc)\n",
    "\n",
    "            pl.figure(1,figsize=(15,5))\n",
    "            pl.subplot(1,2,1)\n",
    "            pl.plot(losstracker)\n",
    "            pl.plot(evallosstracker)\n",
    "            pl.ylim((.5,3))\n",
    "            pl.title(\"Loss: Training Blue, Validation Gold\")\n",
    "            pl.subplot(1,2,2)\n",
    "            pl.plot(evalacctracker[::-1])\n",
    "            pl.ylim((0.3,.8))\n",
    "            pl.title(\"Validation Acc\")\n",
    "            pl.show()\n",
    "\n",
    "            print(\"Train loss is: \"+str(runningloss.item()/vbity)+\n",
    "                  \"\\nValidation accuracy is: \"+str(evalacc)+\n",
    "                  \"\\nValidation loss is: \"+str(evalloss)+\"\\n\")\n",
    "            runningloss = 0\n",
    "            print(time.time()-start)\n",
    "            print(allacc)\n",
    "            print(\"%.2f hours to completion\"%( (time.time()-start)/(it+1+5*epoch*e)*(5*epoch-it+(ensemble-e-1)*5*epoch)/3600 ))\n",
    "    _,acc,_ = evaluate(embed,model,criterion,evalway,evaltrainshot,evaltestshot,10000,testset)\n",
    "    allacc.append(acc)\n",
    "print(allacc, np.mean(allacc), np.sqrt(np.var(allacc)/ensemble)*1.96)"
   ]
  },
  {
   "cell_type": "code",
   "execution_count": null,
   "metadata": {},
   "outputs": [
    {
     "data": {
      "application/javascript": [
       "Jupyter.notebook.session.delete();"
      ],
      "text/plain": [
       "<IPython.core.display.Javascript object>"
      ]
     },
     "metadata": {},
     "output_type": "display_data"
    }
   ],
   "source": [
    "%%javascript\n",
    "Jupyter.notebook.session.delete();"
   ]
  },
  {
   "cell_type": "code",
   "execution_count": null,
   "metadata": {},
   "outputs": [],
   "source": [
    "# Target: 67.3\n",
    "# 20 way, 20 shot: 66.2\n",
    "# 40 way, 5 shot: 67.4\n",
    "# 20 way, 5 shot: 66.7\n",
    "# 64 way, 4 shot: 67.0\n",
    "# 64 way, 3 shot: 66.4"
   ]
  },
  {
   "cell_type": "code",
   "execution_count": 10,
   "metadata": {},
   "outputs": [
    {
     "data": {
      "text/plain": [
       "0.56243733333333346"
      ]
     },
     "execution_count": 10,
     "metadata": {},
     "output_type": "execute_result"
    }
   ],
   "source": [
    "np.mean(evalacctracker[-50:])"
   ]
  },
  {
   "cell_type": "code",
   "execution_count": 15,
   "metadata": {},
   "outputs": [
    {
     "name": "stderr",
     "output_type": "stream",
     "text": [
      "/home/dww78/anaconda3/lib/python3.6/site-packages/torch/serialization.py:158: UserWarning: Couldn't retrieve source code for container of type ENCODER. It won't be checked for correctness upon loading.\n",
      "  \"type \" + obj.__name__ + \". It won't be checked \"\n",
      "/home/dww78/anaconda3/lib/python3.6/site-packages/torch/serialization.py:158: UserWarning: Couldn't retrieve source code for container of type Block. It won't be checked for correctness upon loading.\n",
      "  \"type \" + obj.__name__ + \". It won't be checked \"\n",
      "/home/dww78/anaconda3/lib/python3.6/site-packages/torch/serialization.py:158: UserWarning: Couldn't retrieve source code for container of type PREDICTOR. It won't be checked for correctness upon loading.\n",
      "  \"type \" + obj.__name__ + \". It won't be checked \"\n"
     ]
    }
   ],
   "source": [
    "name = 'meanpool'\n",
    "torch.save((embed,model,losstracker,evallosstracker,evalacctracker),'../saved_models/'+name+'.pth')\n",
    "torch.save(embed.cpu().state_dict(),'../saved_models/'+name+'_cpu.pth')"
   ]
  },
  {
   "cell_type": "code",
   "execution_count": 16,
   "metadata": {
    "collapsed": true
   },
   "outputs": [],
   "source": [
    "embed,model,losstracker,evallosstracker,evalacctracker = torch.load('saved_models/naive_4.pth')"
   ]
  },
  {
   "cell_type": "code",
   "execution_count": null,
   "metadata": {
    "collapsed": true
   },
   "outputs": [],
   "source": [
    "Paper model achieves (over last 1000):\n",
    "    0.71156711111111126\n",
    "after 188500 iters"
   ]
  },
  {
   "cell_type": "code",
   "execution_count": null,
   "metadata": {
    "collapsed": true
   },
   "outputs": [],
   "source": []
  },
  {
   "cell_type": "code",
   "execution_count": null,
   "metadata": {
    "collapsed": true
   },
   "outputs": [],
   "source": []
  },
  {
   "cell_type": "code",
   "execution_count": 213,
   "metadata": {},
   "outputs": [
    {
     "data": {
      "text/plain": [
       "Variable containing:\n",
       "-6.7075e-03 -5.0079e+00 -2.7911e+01\n",
       "-2.9057e+00 -5.6263e-02 -4.5704e+01\n",
       "-1.8272e+01 -4.3870e+01 -1.1600e-08\n",
       "[torch.FloatTensor of size 3x3]"
      ]
     },
     "execution_count": 213,
     "metadata": {},
     "output_type": "execute_result"
    }
   ],
   "source": [
    "support = supportmaker(nclass,shot)\n",
    "inp = inpmaker(nclass)\n",
    "embeds = embed(support)\n",
    "query = embed(inp)\n",
    "model(embeds,query)"
   ]
  }
 ],
 "metadata": {
  "kernelspec": {
   "display_name": "Python 3",
   "language": "python",
   "name": "python3"
  },
  "language_info": {
   "codemirror_mode": {
    "name": "ipython",
    "version": 3
   },
   "file_extension": ".py",
   "mimetype": "text/x-python",
   "name": "python",
   "nbconvert_exporter": "python",
   "pygments_lexer": "ipython3",
   "version": "3.6.5"
  }
 },
 "nbformat": 4,
 "nbformat_minor": 2
}
