{
 "cells": [
  {
   "cell_type": "code",
   "execution_count": 1,
   "metadata": {
    "collapsed": true
   },
   "outputs": [],
   "source": [
    "import numpy as np\n",
    "import math\n",
    "import random\n",
    "import torch\n",
    "import torch.nn as nn\n",
    "import torch.nn.functional as F\n",
    "import torch.optim as optim\n",
    "import torch.autograd as autograd\n",
    "import torchvision.transforms as transforms\n",
    "from torch.autograd import Variable\n",
    "from torch.nn.parameter import Parameter\n",
    "from scipy.misc import imresize\n",
    "\n",
    "%matplotlib inline\n",
    "import pylab as pl\n",
    "from IPython import display\n",
    "import time\n",
    "\n",
    "torch.cuda.set_device(3)"
   ]
  },
  {
   "cell_type": "code",
   "execution_count": 2,
   "metadata": {},
   "outputs": [
    {
     "name": "stdout",
     "output_type": "stream",
     "text": [
      "Variable containing:\n",
      " 2.5000  2.5000  2.5000  2.5000  0.0000  0.0000  0.0000  0.0000\n",
      " 2.5000  2.5000  2.5000  2.5000  0.0000  0.0000  0.0000  0.0000\n",
      " 2.5000  2.5000  2.5000  2.5000  0.0000  0.0000  0.0000  0.0000\n",
      " 2.5000  2.5000  2.5000  2.5000  0.0000  0.0000  0.0000  0.0000\n",
      "[torch.FloatTensor of size (4,8)]\n",
      "\n"
     ]
    }
   ],
   "source": [
    "criterion = nn.MSELoss()\n",
    "targ = Variable(torch.zeros(4))\n",
    "engine = nn.Linear(8,4)\n",
    "engine.weight.data.fill_(1)\n",
    "engine.bias.data.fill_(1)\n",
    "test = Variable(torch.ones(8))\n",
    "test[4:] = 0\n",
    "out = engine(test)\n",
    "loss1 = criterion(out,targ)\n",
    "loss1.backward(retain_graph=True)\n",
    "print(engine.weight.grad)"
   ]
  },
  {
   "cell_type": "code",
   "execution_count": 3,
   "metadata": {},
   "outputs": [
    {
     "name": "stdout",
     "output_type": "stream",
     "text": [
      "Variable containing:\n",
      " 65.0000  65.0000  65.0000  65.0000  62.5000  62.5000  62.5000  62.5000\n",
      " 65.0000  65.0000  65.0000  65.0000  62.5000  62.5000  62.5000  62.5000\n",
      " 65.0000  65.0000  65.0000  65.0000  62.5000  62.5000  62.5000  62.5000\n",
      " 65.0000  65.0000  65.0000  65.0000  62.5000  62.5000  62.5000  62.5000\n",
      "[torch.FloatTensor of size (4,8)]\n",
      "\n"
     ]
    }
   ],
   "source": [
    "# engine.zero_grad()\n",
    "test2 = torch.cat([test[:4],out],dim=0)\n",
    "out2 = engine(test2)\n",
    "loss2 = criterion(out2,targ)\n",
    "loss2.backward()\n",
    "print(engine.weight.grad)"
   ]
  },
  {
   "cell_type": "code",
   "execution_count": 4,
   "metadata": {
    "collapsed": true
   },
   "outputs": [],
   "source": [
    "class Block(nn.Module):\n",
    "    def __init__(self, insize, outsize):\n",
    "        super(Block, self).__init__()\n",
    "        self.layers = nn.Sequential(\n",
    "            nn.Conv2d(insize, outsize, kernel_size=3, padding=1),\n",
    "            nn.BatchNorm2d(outsize),\n",
    "            nn.ReLU()\n",
    "        )\n",
    "        \n",
    "    def forward(self, inp):\n",
    "        return self.layers(inp)\n",
    "\n",
    "class ENCODER(nn.Module):\n",
    "    def __init__(self):\n",
    "        super(ENCODER, self).__init__()\n",
    "        self.process = nn.Sequential(\n",
    "            Block(4,64),\n",
    "            nn.MaxPool2d(2),\n",
    "            Block(64,64),\n",
    "            nn.MaxPool2d(2),\n",
    "            Block(64,64),\n",
    "            nn.MaxPool2d(2),\n",
    "            Block(64,64)\n",
    "        )\n",
    "        self.rechannel = nn.Sequential(\n",
    "            nn.Conv2d(64, 1, kernel_size=3, padding=1)\n",
    "#             nn.Sigmoid()\n",
    "        )\n",
    "        self.pool = nn.AvgPool2d(10)\n",
    "        \n",
    "    def forward(self, inp):\n",
    "        out = self.process(inp)\n",
    "#         outmask = self.LSM(self.rechannel(out).view(out.size(0),-1)).view(out.size(0),1,\n",
    "#                                                                           out.size(2),out.size(2))\n",
    "        return self.pool(out).squeeze(),self.rechannel(out)\n",
    "    \n",
    "class PREDICTOR(nn.Module):\n",
    "    def __init__(self):\n",
    "        super(PREDICTOR, self).__init__()\n",
    "        self.sm = nn.LogSoftmax(dim=-1)\n",
    "        \n",
    "    def forward(self, support, inp, way):\n",
    "        assert support.size(0)%way == 0,\"Error: classes are not the same size!\"\n",
    "        support = support.view(way,support.size(0)//way,-1)\n",
    "        centroids = torch.mean(support, 1).view(support.size(0),-1)\n",
    "#         temp1 = torch.stack([centroids]*inp.size(0))\n",
    "#         temp2 = torch.stack([inp]*centroids.size(0)).transpose(0,1)\n",
    "#         print(temp1.size(),temp2.size())\n",
    "        distmat = torch.sum((centroids.unsqueeze(0)-inp.unsqueeze(1))**2,2).squeeze().neg_()\n",
    "        probs = self.sm(distmat)\n",
    "        return probs"
   ]
  },
  {
   "cell_type": "code",
   "execution_count": 5,
   "metadata": {
    "collapsed": true
   },
   "outputs": [],
   "source": [
    "def addMask(inp):\n",
    "    return torch.cat([inp,torch.zeros(1,84,84)],dim=0)\n",
    "preprocess = transforms.Compose([\n",
    "    transforms.ToTensor(),\n",
    "    transforms.Normalize(mean=[.485,.456,.406],std=[.229,.224,.225]),\n",
    "    transforms.Lambda(addMask)])\n",
    "raw = torch.load('/data/imagenet/photos-annotated-0-augmented.pth')\n",
    "trainset = [[[preprocess(r[1]),torch.Tensor(imresize(r[2],(10,10))).unsqueeze(0)/255] \n",
    "            for r in cat] for cat in raw]\n",
    "raw = torch.load('/data/imagenet/photos-annotated-0-test.pth')\n",
    "testset = [[[preprocess(r[1]),torch.Tensor(imresize(r[2],(10,10))).unsqueeze(0)/255] \n",
    "            for r in cat] for cat in raw]\n",
    "del raw"
   ]
  },
  {
   "cell_type": "code",
   "execution_count": 6,
   "metadata": {
    "collapsed": true
   },
   "outputs": [],
   "source": [
    "def batchmaker(way,trainshot,testshot,theset,alterful=False):\n",
    "    classes = np.random.choice(len(theset),way,replace=False)\n",
    "    li = [[[theset[cl][i][0].view(1,4,84,84),theset[cl][i][1].view(1,10,10)] for i in \n",
    "           np.random.choice(len(theset[cl]),trainshot+testshot,replace=False)]\n",
    "          for cl in classes]\n",
    "    support = torch.cat([torch.cat([p[0] for p in t[:trainshot]],dim=0) for t in li],dim=0)\n",
    "    smask = torch.cat([torch.cat([p[1] for p in t[:trainshot]],dim=0) for t in li],dim=0)\n",
    "    stargs = torch.LongTensor([i//trainshot for i in range(trainshot*way)])\n",
    "    query = torch.cat([torch.cat([p[0] for p in t[trainshot:]],dim=0) for t in li],dim=0)\n",
    "    qmask = torch.cat([torch.cat([p[1] for p in t[trainshot:]],dim=0) for t in li],dim=0)\n",
    "    qtargs = torch.LongTensor([i//testshot for i in range(testshot*way)])\n",
    "#     print(support.size(),query.size())\n",
    "    return(Variable(support).cuda(),\n",
    "           Variable(smask, requires_grad=False).cuda(),\n",
    "           Variable(stargs).cuda(),\n",
    "           Variable(query, volatile=(not alterful)).cuda(),\n",
    "           Variable(qmask, requires_grad=False).cuda(),\n",
    "           Variable(qtargs, volatile=(not alterful)).cuda()\n",
    "          )\n",
    "\n",
    "def evaluate(embed,model,criterion,way,trainshot,testshot,reps,theset):\n",
    "    masktracker = 0\n",
    "    losstracker = 0\n",
    "    acctracker = 0\n",
    "    acclist = []\n",
    "    for i in range(reps):\n",
    "        s,_,_,q,qmask,qt = batchmaker(way,trainshot,testshot,theset)\n",
    "        embeds,_ = embed(s)\n",
    "        qembeds,mpreds = embed(q)\n",
    "        preds = model(embeds,qembeds,way)\n",
    "        \n",
    "        # Val loss\n",
    "        loss = criterion(preds,qt)\n",
    "        losstracker += loss.data[0]\n",
    "        maskloss = mcriterion(mpreds,qmask.unsqueeze(1))\n",
    "        masktracker += maskloss.data[0]*10\n",
    "        \n",
    "        # Val accuracy\n",
    "        _,bins = torch.max(preds,1)\n",
    "        acc = torch.sum(torch.eq(bins,qt)).data[0]/testshot/way\n",
    "        acctracker += acc\n",
    "        acclist.append(acc)\n",
    "    return losstracker/reps,acctracker/reps,masktracker/reps\n",
    "\n",
    "way = 20\n",
    "evalway = 5\n",
    "trainshot = 5\n",
    "testshot = 15\n",
    "reps = 100"
   ]
  },
  {
   "cell_type": "code",
   "execution_count": 7,
   "metadata": {},
   "outputs": [
    {
     "name": "stdout",
     "output_type": "stream",
     "text": [
      "114241  parameters in neural net.\n"
     ]
    }
   ],
   "source": [
    "embed = ENCODER().cuda()\n",
    "model = PREDICTOR().cuda()\n",
    "losstracker,mlosstracker,evallosstracker,evalmlosstracker,evalacctracker = [],[],[],[],[]\n",
    "optimizer = None\n",
    "nweights = sum([i.numel() for i in list(embed.parameters())])\n",
    "print(nweights,\" parameters in neural net.\")"
   ]
  },
  {
   "cell_type": "code",
   "execution_count": 8,
   "metadata": {},
   "outputs": [
    {
     "data": {
      "image/png": "[encoded data removed]",
      "text/plain": [
       "<matplotlib.figure.Figure at 0x7f57cfb05588>"
      ]
     },
     "metadata": {},
     "output_type": "display_data"
    },
    {
     "name": "stdout",
     "output_type": "stream",
     "text": [
      "Train loss is: 1.1416207093000412\n",
      "Mask MSE loss is: 1.3695384764671326\n",
      "\n",
      "Validation accuracy is: 0.6201333333333333\n",
      "Validation loss is: 0.9763348931074143\n",
      "Validation mask loss is: 1.6142841160297394\n",
      "\n",
      "2668.335291147232\n"
     ]
    }
   ],
   "source": [
    "# TRAIN!\n",
    "criterion = nn.NLLLoss()\n",
    "mcriterion = nn.MSELoss() #nn.BCEWithLogitsLoss()\n",
    "vbity = 200\n",
    "epoch = 2000\n",
    "start = time.time()\n",
    "factor = 10\n",
    "\n",
    "runningloss = 0\n",
    "runningmloss = 0\n",
    "for it in range(5*epoch):\n",
    "    if it%10==0:\n",
    "        print(it)\n",
    "    \n",
    "    # Build batch\n",
    "    support, _, _, query, qmask, targs = batchmaker(way,trainshot,testshot,trainset,alterful=True)\n",
    "    \n",
    "    # Predict\n",
    "    embed.zero_grad()\n",
    "    model.zero_grad()\n",
    "    embeds,_ = embed(support)\n",
    "    _,mpreds = embed(query)\n",
    "    newquery = torch.cat([query[:,:3,:,:],F.upsample(mpreds,size=84,mode='bilinear').detach()],dim=1)\n",
    "    qembeds,_ = embed(newquery)\n",
    "    preds = model(embeds,qembeds,way)\n",
    "\n",
    "    # Calculate Loss\n",
    "    loss = criterion(preds, targs)\n",
    "    runningloss += loss.data[0]\n",
    "    mloss = mcriterion(mpreds, qmask)*factor\n",
    "    runningmloss += mloss.data[0]\n",
    "    \n",
    "    # Backprop\n",
    "    if it%epoch == 0:\n",
    "        optimizer = optim.Adam(embed.parameters(),lr=.001/(2**(it//epoch)))\n",
    "    totalloss = (15*loss+mloss)/16\n",
    "    totalloss.backward()\n",
    "#     nn.utils.clip_grad_norm(model.parameters(), 1)\n",
    "    optimizer.step()\n",
    "    \n",
    "    # Report\n",
    "    if it%vbity == vbity-1:\n",
    "        display.clear_output(wait=True)\n",
    "\n",
    "        losstracker.append(runningloss/vbity)\n",
    "        mlosstracker.append(runningmloss/vbity)\n",
    "        embed = embed.eval()\n",
    "        evalloss, evalacc, evalmloss = evaluate(embed,model,criterion,evalway,trainshot,testshot,\n",
    "                                                reps,testset)\n",
    "        embed = embed.train()\n",
    "        evallosstracker.append(evalloss)\n",
    "        evalmlosstracker.append(evalmloss)\n",
    "        evalacctracker.append(evalacc)\n",
    "        \n",
    "        pl.figure(1,figsize=(15,5))\n",
    "        pl.subplot(1,2,1)\n",
    "        pl.plot(losstracker)\n",
    "        pl.plot(evallosstracker)\n",
    "        pl.plot(mlosstracker)\n",
    "        pl.plot(evalmlosstracker)\n",
    "        pl.ylim((0,3))\n",
    "        pl.title(\"Loss: Training Blue, Validation Gold, Mask Green, Validation Mask Red\")\n",
    "        pl.subplot(1,2,2)\n",
    "        pl.plot(evalacctracker[::-1])\n",
    "        pl.ylim((0.3,.8))\n",
    "        pl.title(\"Validation Acc\")\n",
    "        pl.show()\n",
    "        \n",
    "        print(\"Train loss is: \"+str(runningloss/vbity)+\n",
    "              \"\\nMask MSE loss is: \"+str(runningmloss/vbity)+\n",
    "              \"\\n\\nValidation accuracy is: \"+str(evalacc)+\n",
    "              \"\\nValidation loss is: \"+str(evalloss)+\n",
    "              \"\\nValidation mask loss is: \"+str(evalmloss)+\"\\n\")\n",
    "        runningloss = 0\n",
    "        runningmloss = 0\n",
    "        print(time.time()-start)\n",
    "\n",
    "# MORE RECENT TEST\n",
    "        "
   ]
  },
  {
   "cell_type": "code",
   "execution_count": null,
   "metadata": {
    "collapsed": true
   },
   "outputs": [],
   "source": [
    "First test: no detachment, 1/2 loss ratio. \n",
    "    (0.9230986696600914, 0.637064000000071, 1.5747076343894004)\n",
    "With detachment, 1/2 loss ratio.\n",
    "    (0.8651500172197819, 0.6575506666667453, 1.5744320280477404)\n",
    "With detachment, 15/16 loss ratio\n",
    "    (0.9195982311725617, 0.6409893333334088, 1.633154151432216)      But I suspect this is an outlier"
   ]
  },
  {
   "cell_type": "code",
   "execution_count": null,
   "metadata": {
    "collapsed": true
   },
   "outputs": [],
   "source": []
  },
  {
   "cell_type": "code",
   "execution_count": null,
   "metadata": {
    "collapsed": true
   },
   "outputs": [],
   "source": [
    "#15/16: (0.8323499808594584, 0.6798600000000852, 1.4651121062263845)\n",
    "#9/10: (0.8486564774314562, 0.6798888888888894, 1.4463223567853372)\n",
    "#7/8: (0.8484100696980953, 0.6729893333334191, 1.4426418270468713)\n",
    "#3/4: (0.8484100696980953, 0.6729893333334191, 1.4426418270468713)\n",
    "#1/2: (0.8267666073277593, 0.6776586666667532, 1.3924485085904599)"
   ]
  },
  {
   "cell_type": "code",
   "execution_count": 9,
   "metadata": {},
   "outputs": [
    {
     "name": "stderr",
     "output_type": "stream",
     "text": [
      "/home/dww78/anaconda3/lib/python3.6/site-packages/ipykernel_launcher.py:16: UserWarning: volatile was removed and now has no effect. Use `with torch.no_grad():` instead.\n",
      "  app.launch_new_instance()\n",
      "/home/dww78/anaconda3/lib/python3.6/site-packages/ipykernel_launcher.py:18: UserWarning: volatile was removed and now has no effect. Use `with torch.no_grad():` instead.\n"
     ]
    },
    {
     "name": "stdout",
     "output_type": "stream",
     "text": [
      "(0.9195982311725617, 0.6409893333334088, 1.633154151432216)\n"
     ]
    }
   ],
   "source": [
    "criterion = nn.NLLLoss().cuda()\n",
    "embed = embed.eval()\n",
    "print(evaluate(embed,model,criterion,evalway,trainshot,testshot,10000,testset))\n",
    "embed = embed.train()"
   ]
  },
  {
   "cell_type": "code",
   "execution_count": 20,
   "metadata": {},
   "outputs": [
    {
     "name": "stderr",
     "output_type": "stream",
     "text": [
      "/home/dww78/anaconda3/lib/python3.6/site-packages/torch/serialization.py:158: UserWarning: Couldn't retrieve source code for container of type ENCODER. It won't be checked for correctness upon loading.\n",
      "  \"type \" + obj.__name__ + \". It won't be checked \"\n",
      "/home/dww78/anaconda3/lib/python3.6/site-packages/torch/serialization.py:158: UserWarning: Couldn't retrieve source code for container of type Block. It won't be checked for correctness upon loading.\n",
      "  \"type \" + obj.__name__ + \". It won't be checked \"\n",
      "/home/dww78/anaconda3/lib/python3.6/site-packages/torch/serialization.py:158: UserWarning: Couldn't retrieve source code for container of type PREDICTOR. It won't be checked for correctness upon loading.\n",
      "  \"type \" + obj.__name__ + \". It won't be checked \"\n"
     ]
    }
   ],
   "source": [
    "name = 'maskpredict_mse'\n",
    "torch.save((embed,model,losstracker,evallosstracker,evalacctracker,mlosstracker,evalmlosstracker),\n",
    "           '../saved_models/'+name+'.pth')\n",
    "torch.save(embed.cpu().state_dict(),'../saved_models/'+name+'_cpu.pth')"
   ]
  },
  {
   "cell_type": "code",
   "execution_count": null,
   "metadata": {
    "collapsed": true
   },
   "outputs": [],
   "source": [
    "newtrainset = []\n",
    "for cat in trainset:\n",
    "    batch = Variable(torch.cat([i[0].view(1,3,84,84) for i in cat]), volatile=True).cuda()\n",
    "    _,preds = embed(batch)\n",
    "    preds = preds.data.cpu()\n",
    "    print(preds.size())\n",
    "    batch = batch.data.cpu()\n",
    "    newcat = [torch.cat([batch[i],torch.Tensor(imresize(preds[i][0].numpy(),(84,84))).view(1,84,84)],dim=0)\n",
    "              for i in range(len(cat))]\n",
    "    newtrainset.append(newcat)\n",
    "torch.save(newtrainset,\"/data/imagenet/photos-0-maskadded-train.pth\")"
   ]
  },
  {
   "cell_type": "code",
   "execution_count": 13,
   "metadata": {
    "collapsed": true
   },
   "outputs": [],
   "source": [
    "newtestset = []\n",
    "for cat in testset:\n",
    "    batch = Variable(torch.cat([i[0].view(1,3,84,84) for i in cat]), volatile=True).cuda()\n",
    "    _,preds = embed(batch)\n",
    "    preds = preds.data.cpu()\n",
    "    batch = batch.data.cpu()\n",
    "    newcat = [torch.cat([batch[i],torch.Tensor(imresize(preds[i][0].numpy(),(84,84))).view(1,84,84)],dim=0)\n",
    "              for i in range(len(cat))]\n",
    "    newtestset.append(newcat)\n",
    "torch.save(newtestset,\"/data/imagenet/photos-0-maskadded-test.pth\")"
   ]
  },
  {
   "cell_type": "code",
   "execution_count": 13,
   "metadata": {},
   "outputs": [
    {
     "data": {
      "text/plain": [
       "<matplotlib.image.AxesImage at 0x7f57cf8bcac8>"
      ]
     },
     "execution_count": 13,
     "metadata": {},
     "output_type": "execute_result"
    },
    {
     "data": {
      "image/png": "[encoded data removed]",
      "text/plain": [
       "<matplotlib.figure.Figure at 0x7f57cf7e3198>"
      ]
     },
     "metadata": {},
     "output_type": "display_data"
    }
   ],
   "source": [
    "from matplotlib.pyplot import imshow\n",
    "x = 100\n",
    "imshow(mpreds[x][0].data.cpu().numpy())"
   ]
  },
  {
   "cell_type": "code",
   "execution_count": 14,
   "metadata": {},
   "outputs": [
    {
     "data": {
      "text/plain": [
       "<matplotlib.image.AxesImage at 0x7f57cf626588>"
      ]
     },
     "execution_count": 14,
     "metadata": {},
     "output_type": "execute_result"
    },
    {
     "data": {
      "image/png": "[encoded data removed]",
      "text/plain": [
       "<matplotlib.figure.Figure at 0x7f57ce98f3c8>"
      ]
     },
     "metadata": {},
     "output_type": "display_data"
    }
   ],
   "source": [
    "imshow(qmask[x].data.cpu().numpy())"
   ]
  },
  {
   "cell_type": "code",
   "execution_count": 15,
   "metadata": {},
   "outputs": [
    {
     "data": {
      "text/plain": [
       "<matplotlib.image.AxesImage at 0x7f57ccd502e8>"
      ]
     },
     "execution_count": 15,
     "metadata": {},
     "output_type": "execute_result"
    },
    {
     "data": {
      "image/png": "[encoded data removed]",
      "text/plain": [
       "<matplotlib.figure.Figure at 0x7f57ce9a6da0>"
      ]
     },
     "metadata": {},
     "output_type": "display_data"
    }
   ],
   "source": [
    "imshow(torch.sum(query[x],dim=0).data.cpu().numpy())\n"
   ]
  },
  {
   "cell_type": "code",
   "execution_count": null,
   "metadata": {
    "collapsed": true
   },
   "outputs": [],
   "source": []
  },
  {
   "cell_type": "code",
   "execution_count": null,
   "metadata": {
    "collapsed": true
   },
   "outputs": [],
   "source": []
  },
  {
   "cell_type": "code",
   "execution_count": null,
   "metadata": {
    "collapsed": true
   },
   "outputs": [],
   "source": []
  },
  {
   "cell_type": "code",
   "execution_count": null,
   "metadata": {
    "collapsed": true
   },
   "outputs": [],
   "source": []
  },
  {
   "cell_type": "code",
   "execution_count": 10,
   "metadata": {},
   "outputs": [
    {
     "data": {
      "text/plain": [
       "0.01318637251104336"
      ]
     },
     "execution_count": 10,
     "metadata": {},
     "output_type": "execute_result"
    }
   ],
   "source": [
    "1.96*np.sqrt(.0090525/200)"
   ]
  },
  {
   "cell_type": "code",
   "execution_count": 41,
   "metadata": {},
   "outputs": [
    {
     "data": {
      "text/plain": [
       "0.5500666666666667"
      ]
     },
     "execution_count": 41,
     "metadata": {},
     "output_type": "execute_result"
    }
   ],
   "source": [
    "np.mean(evalacctracker[-50:])"
   ]
  },
  {
   "cell_type": "code",
   "execution_count": 19,
   "metadata": {},
   "outputs": [
    {
     "name": "stderr",
     "output_type": "stream",
     "text": [
      "/home/dww78/anaconda3/lib/python3.6/site-packages/torch/serialization.py:147: UserWarning: Couldn't retrieve source code for container of type ENCODER. It won't be checked for correctness upon loading.\n",
      "  \"type \" + obj.__name__ + \". It won't be checked \"\n",
      "/home/dww78/anaconda3/lib/python3.6/site-packages/torch/serialization.py:147: UserWarning: Couldn't retrieve source code for container of type Block. It won't be checked for correctness upon loading.\n",
      "  \"type \" + obj.__name__ + \". It won't be checked \"\n",
      "/home/dww78/anaconda3/lib/python3.6/site-packages/torch/serialization.py:147: UserWarning: Couldn't retrieve source code for container of type PREDICTOR. It won't be checked for correctness upon loading.\n",
      "  \"type \" + obj.__name__ + \". It won't be checked \"\n"
     ]
    }
   ],
   "source": [
    "name = 'naive_full'\n",
    "torch.save((embed,model,losstracker,evallosstracker,evalacctracker),'saved_models/'+name+'.pth')\n",
    "torch.save(embed.cpu().state_dict(),'saved_models/'+name+'_cpu.pth')"
   ]
  },
  {
   "cell_type": "code",
   "execution_count": 16,
   "metadata": {
    "collapsed": true
   },
   "outputs": [],
   "source": [
    "embed,model,losstracker,evallosstracker,evalacctracker = torch.load('saved_models/naive_4.pth')"
   ]
  },
  {
   "cell_type": "code",
   "execution_count": null,
   "metadata": {
    "collapsed": true
   },
   "outputs": [],
   "source": [
    "Paper model achieves (over last 1000):\n",
    "    0.71156711111111126\n",
    "after 188500 iters"
   ]
  },
  {
   "cell_type": "code",
   "execution_count": null,
   "metadata": {
    "collapsed": true
   },
   "outputs": [],
   "source": []
  },
  {
   "cell_type": "code",
   "execution_count": null,
   "metadata": {
    "collapsed": true
   },
   "outputs": [],
   "source": []
  },
  {
   "cell_type": "code",
   "execution_count": 213,
   "metadata": {},
   "outputs": [
    {
     "data": {
      "text/plain": [
       "Variable containing:\n",
       "-6.7075e-03 -5.0079e+00 -2.7911e+01\n",
       "-2.9057e+00 -5.6263e-02 -4.5704e+01\n",
       "-1.8272e+01 -4.3870e+01 -1.1600e-08\n",
       "[torch.FloatTensor of size 3x3]"
      ]
     },
     "execution_count": 213,
     "metadata": {},
     "output_type": "execute_result"
    }
   ],
   "source": [
    "support = supportmaker(nclass,shot)\n",
    "inp = inpmaker(nclass)\n",
    "embeds = embed(support)\n",
    "query = embed(inp)\n",
    "model(embeds,query)"
   ]
  }
 ],
 "metadata": {
  "kernelspec": {
   "display_name": "Python 3",
   "language": "python",
   "name": "python3"
  },
  "language_info": {
   "codemirror_mode": {
    "name": "ipython",
    "version": 3
   },
   "file_extension": ".py",
   "mimetype": "text/x-python",
   "name": "python",
   "nbconvert_exporter": "python",
   "pygments_lexer": "ipython3",
   "version": "3.6.3"
  }
 },
 "nbformat": 4,
 "nbformat_minor": 2
}
