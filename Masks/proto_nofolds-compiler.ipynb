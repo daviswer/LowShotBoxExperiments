{
 "cells": [
  {
   "cell_type": "code",
   "execution_count": 1,
   "metadata": {},
   "outputs": [],
   "source": [
    "import numpy as np\n",
    "import math\n",
    "import random\n",
    "import torch\n",
    "import torch.nn as nn\n",
    "import torch.nn.functional as F\n",
    "import torch.optim as optim\n",
    "import torch.autograd as autograd\n",
    "import torchvision.transforms as transforms\n",
    "from torch.autograd import Variable\n",
    "from torch.nn.parameter import Parameter\n",
    "from scipy.misc import imresize\n",
    "\n",
    "%matplotlib inline\n",
    "import pylab as pl\n",
    "from IPython import display\n",
    "import time\n",
    "\n",
    "torch.cuda.set_device(0)"
   ]
  },
  {
   "cell_type": "code",
   "execution_count": 2,
   "metadata": {},
   "outputs": [],
   "source": [
    "class Block(nn.Module):\n",
    "    def __init__(self, insize, outsize):\n",
    "        super(Block, self).__init__()\n",
    "        self.layers = nn.Sequential(\n",
    "            nn.Conv2d(insize, outsize, kernel_size=3, padding=1),\n",
    "            nn.BatchNorm2d(outsize),\n",
    "            nn.ReLU()\n",
    "        )\n",
    "        \n",
    "    def forward(self, inp):\n",
    "        return self.layers(inp)\n",
    "\n",
    "class ENCODER(nn.Module):\n",
    "    def __init__(self):\n",
    "        super(ENCODER, self).__init__()\n",
    "        self.process = nn.Sequential(\n",
    "            Block(3,64),\n",
    "            nn.MaxPool2d(2),\n",
    "            Block(64,64),\n",
    "            nn.MaxPool2d(2),\n",
    "            Block(64,64),\n",
    "            nn.MaxPool2d(2),\n",
    "            Block(64,64),\n",
    "            nn.AvgPool2d(10)\n",
    "        )\n",
    "        \n",
    "    def forward(self, inp):\n",
    "        out = self.process(inp[:,:3,:,:])\n",
    "        return out.view(out.size(0),-1)\n",
    "    \n",
    "class PREDICTOR(nn.Module):\n",
    "    def __init__(self):\n",
    "        super(PREDICTOR, self).__init__()\n",
    "        self.sm = nn.LogSoftmax(dim=-1)\n",
    "        \n",
    "    def forward(self, inp, way, tshot):\n",
    "        assert inp.size(0)%way == 0,\"Error: classes are not the same size!\"\n",
    "        support = inp[:way*tshot].view(way,tshot,-1)\n",
    "        centroids = torch.mean(support, 1).view(way,-1)\n",
    "        distmat = torch.sum((centroids.unsqueeze(0)-inp[way*tshot:].unsqueeze(1))**2,2).squeeze().neg()\n",
    "        probs = self.sm(distmat)\n",
    "        return probs"
   ]
  },
  {
   "cell_type": "code",
   "execution_count": 3,
   "metadata": {},
   "outputs": [
    {
     "name": "stderr",
     "output_type": "stream",
     "text": [
      "/home/dww78/anaconda3/lib/python3.6/site-packages/ipykernel_launcher.py:6: DeprecationWarning: `imresize` is deprecated!\n",
      "`imresize` is deprecated in SciPy 1.0.0, and will be removed in 1.2.0.\n",
      "Use ``skimage.transform.resize`` instead.\n",
      "  \n",
      "/home/dww78/anaconda3/lib/python3.6/site-packages/ipykernel_launcher.py:9: DeprecationWarning: `imresize` is deprecated!\n",
      "`imresize` is deprecated in SciPy 1.0.0, and will be removed in 1.2.0.\n",
      "Use ``skimage.transform.resize`` instead.\n",
      "  if __name__ == '__main__':\n"
     ]
    }
   ],
   "source": [
    "preprocess = transforms.Compose([\n",
    "    transforms.ToTensor(),\n",
    "    transforms.Normalize(mean=[.485,.456,.406],std=[.229,.224,.225])])\n",
    "raw = torch.load('/data/imagenet/photos-annotated-0-augmented.pth')\n",
    "trainset = [[[preprocess(r[1]),torch.Tensor(imresize(r[2],(10,10))).unsqueeze(0)/255] \n",
    "            for r in cat] for cat in raw]\n",
    "raw = torch.load('/data/imagenet/photos-annotated-0-test.pth')\n",
    "testset = [[[preprocess(r[1]),torch.Tensor(imresize(r[2],(10,10))).unsqueeze(0)/255] \n",
    "            for r in cat] for cat in raw]\n",
    "del raw"
   ]
  },
  {
   "cell_type": "code",
   "execution_count": 4,
   "metadata": {},
   "outputs": [],
   "source": [
    "def batchmaker(way,trainshot,testshot,theset):\n",
    "    classes = np.random.choice(len(theset),way,replace=False)\n",
    "    li = [[[theset[cl][i][0].view(1,3,84,84),theset[cl][i][1].view(1,10,10)] for i in \n",
    "           np.random.choice(len(theset[cl]),trainshot+testshot,replace=False)]\n",
    "          for cl in classes]\n",
    "    support = torch.cat([torch.cat([p[0] for p in t[:trainshot]],dim=0) for t in li],dim=0)\n",
    "    query = torch.cat([torch.cat([p[0] for p in t[trainshot:]],dim=0) for t in li],dim=0)\n",
    "    qtargs = torch.LongTensor([i//testshot for i in range(testshot*way)])\n",
    "    out = torch.cat([support, query], dim=0)\n",
    "    return(Variable(out).cuda(), Variable(qtargs).cuda())\n",
    "\n",
    "def evaluate(embed,model,criterion,way,trainshot,testshot,reps,theset):\n",
    "    masktracker = 0\n",
    "    losstracker = 0\n",
    "    acctracker = 0\n",
    "    acclist = []\n",
    "    for i in range(reps):\n",
    "        with torch.no_grad():\n",
    "            x,qt = batchmaker(way,trainshot,testshot,theset)\n",
    "            preds = model(embed(x),way,trainshot)\n",
    "\n",
    "            # Val loss\n",
    "            loss = criterion(preds,qt)\n",
    "            losstracker += loss.item()\n",
    "\n",
    "            # Val accuracy\n",
    "            _,bins = torch.max(preds,1)\n",
    "            acc = torch.sum(torch.eq(bins,qt)).item()/testshot/way\n",
    "            acctracker += acc\n",
    "            acclist.append(acc)\n",
    "    return losstracker/reps,acctracker/reps\n",
    "\n",
    "trainway = 20\n",
    "bsize = 20\n",
    "trainshot = [16,8,4,2,1]\n",
    "evalway = 5\n",
    "evaltrainshot = [16,8,4,2,1]\n",
    "evaltestshot = 15\n",
    "reps = 100"
   ]
  },
  {
   "cell_type": "code",
   "execution_count": 5,
   "metadata": {},
   "outputs": [
    {
     "name": "stdout",
     "output_type": "stream",
     "text": [
      "113088  parameters in neural net.\n"
     ]
    }
   ],
   "source": [
    "embed = ENCODER().cuda()\n",
    "model = PREDICTOR().cuda()\n",
    "embed.train()\n",
    "model.train()\n",
    "losstracker,evallosstracker,evalacctracker = [],[],[]\n",
    "optimizer = None\n",
    "nweights = sum([i.numel() for i in list(embed.parameters())])\n",
    "print(nweights,\" parameters in neural net.\")"
   ]
  },
  {
   "cell_type": "code",
   "execution_count": 6,
   "metadata": {},
   "outputs": [
    {
     "data": {
      "image/png": "[encoded data removed]",
      "text/plain": [
       "<Figure size 1080x360 with 2 Axes>"
      ]
     },
     "metadata": {},
     "output_type": "display_data"
    },
    {
     "name": "stdout",
     "output_type": "stream",
     "text": [
      "Train loss is: 2.1235853576660157\n",
      "Validation accuracy is: 0.49586666666666657\n",
      "Validation loss is: 1.2616168093681335\n",
      "\n",
      "55598.1938521862\n",
      "0.00 hours to completion\n",
      "1\n",
      "16\n",
      "8\n",
      "4\n",
      "2\n",
      "1\n"
     ]
    }
   ],
   "source": [
    "# TRAIN!\n",
    "criterion = nn.NLLLoss().cuda()\n",
    "vbity = 200 #1024\n",
    "epoch = 2000 #8192\n",
    "ensemble = 8\n",
    "\n",
    "accgrid = [[0 for _ in range(len(evaltrainshot))] for _ in range(len(trainshot))]\n",
    "for i in range(len(trainshot)):\n",
    "    tshot = trainshot[i]\n",
    "    \n",
    "    start = time.time()\n",
    "    for e in range(ensemble):\n",
    "        runningloss = 0\n",
    "        embed = ENCODER().cuda()\n",
    "        model = PREDICTOR().cuda()\n",
    "        embed.train()\n",
    "        model.train()\n",
    "        losstracker,evallosstracker,evalacctracker = [],[],[]\n",
    "        optimizer = None\n",
    "        for it in range(5*epoch):\n",
    "            if it%10==0:\n",
    "                print(it)\n",
    "\n",
    "            # Build batch\n",
    "            support, targs = batchmaker(trainway,tshot,bsize-tshot,trainset)\n",
    "\n",
    "            # Predict\n",
    "            embed.zero_grad()\n",
    "            model.zero_grad()\n",
    "            preds = model(embed(support),trainway,tshot)\n",
    "\n",
    "            # Calculate Loss\n",
    "            loss = criterion(preds, targs)\n",
    "            runningloss += loss\n",
    "\n",
    "            # Backprop\n",
    "            if it%epoch == 0:\n",
    "                optimizer = optim.Adam(embed.parameters(),lr=.001/(2**(it//epoch)))\n",
    "            loss.backward()\n",
    "        #     nn.utils.clip_grad_norm(model.parameters(), 1)\n",
    "            optimizer.step()\n",
    "\n",
    "            # Report\n",
    "            if it%vbity == vbity-1:\n",
    "                display.clear_output(wait=True)\n",
    "\n",
    "                losstracker.append(runningloss.item()/vbity)\n",
    "                evalloss, evalacc = evaluate(embed,model,criterion,evalway,tshot,evaltestshot,reps,testset)\n",
    "                evallosstracker.append(evalloss)\n",
    "                evalacctracker.append(evalacc)\n",
    "\n",
    "                pl.figure(1,figsize=(15,5))\n",
    "                pl.subplot(1,2,1)\n",
    "                pl.plot(losstracker)\n",
    "                pl.plot(evallosstracker)\n",
    "                pl.ylim((.5,3))\n",
    "                pl.title(\"Loss: Training Blue, Validation Gold\")\n",
    "                pl.subplot(1,2,2)\n",
    "                pl.plot(evalacctracker[::-1])\n",
    "                pl.ylim((0.3,.8))\n",
    "                pl.title(\"Validation Acc\")\n",
    "                pl.show()\n",
    "\n",
    "                print(\"Train loss is: \"+str(runningloss.item()/vbity)+\n",
    "                      \"\\nValidation accuracy is: \"+str(evalacc)+\n",
    "                      \"\\nValidation loss is: \"+str(evalloss)+\"\\n\")\n",
    "                runningloss = 0\n",
    "                print(time.time()-start)\n",
    "                print(\"%.2f hours to completion\"%( (time.time()-start)/(it+1+5*epoch*e)*(5*epoch-it+(ensemble-e-1)*5*epoch)/3600 ))\n",
    "                print(tshot)\n",
    "        \n",
    "        for j in range(len(evaltrainshot)):\n",
    "            etshot = evaltrainshot[j]\n",
    "            _,acc = evaluate(embed,model,criterion,evalway,etshot,evaltestshot,10000,testset)\n",
    "            accgrid[i][j] += acc\n",
    "            print(etshot)"
   ]
  },
  {
   "cell_type": "code",
   "execution_count": 7,
   "metadata": {},
   "outputs": [
    {
     "data": {
      "image/png": "[encoded data removed]",
      "text/plain": [
       "<Figure size 432x288 with 1 Axes>"
      ]
     },
     "metadata": {},
     "output_type": "display_data"
    }
   ],
   "source": [
    "# accgrid = [[0.7341796666667659, 0.70159866666676, 0.646501333333409, 0.5668593333333634, 0.47451933333333185], [0.7348540000000997, 0.7049280000000943, 0.6569880000000795, 0.5816866666667027, 0.4857456666666666], [0.7238360000000981, 0.6974740000000922, 0.6511793333334087, 0.5764850000000334, 0.4871353333333323], [0.6988606666667594, 0.6675903333334171, 0.6251016666667302, 0.5520280000000194, 0.4625800000000016], [0.6411476666667429, 0.6102233333333918, 0.5576946666666918, 0.48676433333333197, 0.4078953333333627]]\n",
    "accgrid = np.array(accgrid)\n",
    "pl.figure()\n",
    "pl.imshow(accgrid) #, vmin=.4, vmax=.75)\n",
    "pl.ylabel('Trainshot')\n",
    "pl.xlabel('Testshot')\n",
    "pl.xticks(list(range(len(evaltrainshot))), evaltrainshot)\n",
    "pl.yticks(list(range(len(evaltrainshot))), evaltrainshot)\n",
    "pl.show()"
   ]
  },
  {
   "cell_type": "code",
   "execution_count": 8,
   "metadata": {},
   "outputs": [
    {
     "name": "stdout",
     "output_type": "stream",
     "text": [
      "[[0.72654267 0.69166767 0.636442   0.560021   0.47112467]\n",
      " [0.73213017 0.6983555  0.64339283 0.56683917 0.47534017]\n",
      " [0.73057267 0.69825417 0.64706883 0.5744125  0.4853125 ]\n",
      " [0.72508083 0.69441717 0.64804233 0.5799435  0.49457983]\n",
      " [0.71448317 0.68710317 0.64195517 0.57813183 0.49885083]]\n"
     ]
    }
   ],
   "source": [
    "print(accgrid/ensemble)"
   ]
  },
  {
   "cell_type": "code",
   "execution_count": null,
   "metadata": {},
   "outputs": [
    {
     "data": {
      "application/javascript": [
       "Jupyter.notebook.session.delete();"
      ],
      "text/plain": [
       "<IPython.core.display.Javascript object>"
      ]
     },
     "metadata": {},
     "output_type": "display_data"
    }
   ],
   "source": [
    "%%javascript\n",
    "Jupyter.notebook.session.delete();"
   ]
  },
  {
   "cell_type": "code",
   "execution_count": null,
   "metadata": {},
   "outputs": [],
   "source": []
  },
  {
   "cell_type": "code",
   "execution_count": null,
   "metadata": {},
   "outputs": [],
   "source": []
  },
  {
   "cell_type": "code",
   "execution_count": 9,
   "metadata": {},
   "outputs": [
    {
     "data": {
      "image/png": "[encoded data removed]",
      "text/plain": [
       "<Figure size 432x288 with 1 Axes>"
      ]
     },
     "metadata": {},
     "output_type": "display_data"
    }
   ],
   "source": [
    "# accgrid = [[0.7341796666667659, 0.70159866666676, 0.646501333333409, 0.5668593333333634, 0.47451933333333185], [0.7348540000000997, 0.7049280000000943, 0.6569880000000795, 0.5816866666667027, 0.4857456666666666], [0.7238360000000981, 0.6974740000000922, 0.6511793333334087, 0.5764850000000334, 0.4871353333333323], [0.6988606666667594, 0.6675903333334171, 0.6251016666667302, 0.5520280000000194, 0.4625800000000016], [0.6411476666667429, 0.6102233333333918, 0.5576946666666918, 0.48676433333333197, 0.4078953333333627]]\n",
    "accgrid = np.array(accgrid)\n",
    "pl.figure()\n",
    "pl.imshow(accgrid) #, vmin=.4, vmax=.75)\n",
    "pl.ylabel('Trainshot')\n",
    "pl.xlabel('Testshot')\n",
    "pl.xticks(list(range(len(evaltrainshot))), evaltrainshot)\n",
    "pl.yticks(list(range(len(evaltrainshot))), evaltrainshot)\n",
    "pl.show()"
   ]
  },
  {
   "cell_type": "code",
   "execution_count": 10,
   "metadata": {},
   "outputs": [
    {
     "name": "stdout",
     "output_type": "stream",
     "text": [
      "[[0.71649244 0.68378578 0.633136   0.55990356 0.47339956]\n",
      " [0.72124222 0.691248   0.64242667 0.57019511 0.48025022]\n",
      " [0.72524    0.69684222 0.64911333 0.57773644 0.48613689]\n",
      " [0.72167467 0.69372978 0.64609289 0.57275289 0.47836844]\n",
      " [0.69617378 0.65941689 0.60103689 0.52057022 0.42440089]]\n"
     ]
    }
   ],
   "source": [
    "print(accgrid/ensemble)"
   ]
  },
  {
   "cell_type": "code",
   "execution_count": 10,
   "metadata": {},
   "outputs": [
    {
     "data": {
      "text/plain": [
       "0.56243733333333346"
      ]
     },
     "execution_count": 10,
     "metadata": {},
     "output_type": "execute_result"
    }
   ],
   "source": [
    "np.mean(evalacctracker[-50:])"
   ]
  },
  {
   "cell_type": "code",
   "execution_count": 15,
   "metadata": {},
   "outputs": [
    {
     "name": "stderr",
     "output_type": "stream",
     "text": [
      "/home/dww78/anaconda3/lib/python3.6/site-packages/torch/serialization.py:158: UserWarning: Couldn't retrieve source code for container of type ENCODER. It won't be checked for correctness upon loading.\n",
      "  \"type \" + obj.__name__ + \". It won't be checked \"\n",
      "/home/dww78/anaconda3/lib/python3.6/site-packages/torch/serialization.py:158: UserWarning: Couldn't retrieve source code for container of type Block. It won't be checked for correctness upon loading.\n",
      "  \"type \" + obj.__name__ + \". It won't be checked \"\n",
      "/home/dww78/anaconda3/lib/python3.6/site-packages/torch/serialization.py:158: UserWarning: Couldn't retrieve source code for container of type PREDICTOR. It won't be checked for correctness upon loading.\n",
      "  \"type \" + obj.__name__ + \". It won't be checked \"\n"
     ]
    }
   ],
   "source": [
    "name = 'meanpool'\n",
    "torch.save((embed,model,losstracker,evallosstracker,evalacctracker),'../saved_models/'+name+'.pth')\n",
    "torch.save(embed.cpu().state_dict(),'../saved_models/'+name+'_cpu.pth')"
   ]
  },
  {
   "cell_type": "code",
   "execution_count": 16,
   "metadata": {
    "collapsed": true
   },
   "outputs": [],
   "source": [
    "embed,model,losstracker,evallosstracker,evalacctracker = torch.load('saved_models/naive_4.pth')"
   ]
  },
  {
   "cell_type": "code",
   "execution_count": null,
   "metadata": {
    "collapsed": true
   },
   "outputs": [],
   "source": [
    "Paper model achieves (over last 1000):\n",
    "    0.71156711111111126\n",
    "after 188500 iters"
   ]
  },
  {
   "cell_type": "code",
   "execution_count": null,
   "metadata": {
    "collapsed": true
   },
   "outputs": [],
   "source": []
  },
  {
   "cell_type": "code",
   "execution_count": null,
   "metadata": {
    "collapsed": true
   },
   "outputs": [],
   "source": []
  },
  {
   "cell_type": "code",
   "execution_count": 213,
   "metadata": {},
   "outputs": [
    {
     "data": {
      "text/plain": [
       "Variable containing:\n",
       "-6.7075e-03 -5.0079e+00 -2.7911e+01\n",
       "-2.9057e+00 -5.6263e-02 -4.5704e+01\n",
       "-1.8272e+01 -4.3870e+01 -1.1600e-08\n",
       "[torch.FloatTensor of size 3x3]"
      ]
     },
     "execution_count": 213,
     "metadata": {},
     "output_type": "execute_result"
    }
   ],
   "source": [
    "support = supportmaker(nclass,shot)\n",
    "inp = inpmaker(nclass)\n",
    "embeds = embed(support)\n",
    "query = embed(inp)\n",
    "model(embeds,query)"
   ]
  }
 ],
 "metadata": {
  "kernelspec": {
   "display_name": "Python 3",
   "language": "python",
   "name": "python3"
  },
  "language_info": {
   "codemirror_mode": {
    "name": "ipython",
    "version": 3
   },
   "file_extension": ".py",
   "mimetype": "text/x-python",
   "name": "python",
   "nbconvert_exporter": "python",
   "pygments_lexer": "ipython3",
   "version": "3.6.5"
  }
 },
 "nbformat": 4,
 "nbformat_minor": 2
}
