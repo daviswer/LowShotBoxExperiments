{
 "cells": [
  {
   "cell_type": "code",
   "execution_count": 1,
   "metadata": {
    "collapsed": true
   },
   "outputs": [],
   "source": [
    "import numpy as np\n",
    "import math\n",
    "import torch\n",
    "import torch.nn as nn\n",
    "import torch.nn.functional as F\n",
    "import torch.optim as optim\n",
    "import torch.autograd as autograd\n",
    "import torchvision.transforms as transforms\n",
    "from torch.autograd import Variable\n",
    "from torch.nn.parameter import Parameter\n",
    "from sklearn.linear_model import LogisticRegression\n",
    "%matplotlib inline\n",
    "import pylab as pl\n",
    "from IPython import display"
   ]
  },
  {
   "cell_type": "code",
   "execution_count": 2,
   "metadata": {
    "collapsed": true
   },
   "outputs": [],
   "source": [
    "class Block(nn.Module):\n",
    "    def __init__(self, insize, outsize):\n",
    "        super(Block, self).__init__()\n",
    "        self.layers = nn.Sequential(\n",
    "            nn.Conv2d(insize, outsize, kernel_size=3, padding=1),\n",
    "            nn.BatchNorm2d(outsize),\n",
    "            nn.ReLU(),\n",
    "            nn.MaxPool2d(2)\n",
    "        )\n",
    "        \n",
    "    def forward(self, inp):\n",
    "        return self.layers(inp)\n",
    "\n",
    "class ENCODER(nn.Module):\n",
    "    def __init__(self):\n",
    "        super(ENCODER, self).__init__()\n",
    "        self.block1 = Block(3,64)\n",
    "        self.block2 = Block(64,64)\n",
    "        self.block3 = Block(64,64)\n",
    "        self.block4 = Block(64,64)\n",
    "        \n",
    "    def forward(self, inp):\n",
    "        out = self.block1(inp)\n",
    "        out = self.block2(out)\n",
    "        out = self.block3(out)\n",
    "        out = self.block4(out)\n",
    "        return out.view(out.size(0),-1)\n",
    "\n",
    "class smartPREDICTOR(nn.Module):\n",
    "    def __init__(self):\n",
    "        super(smartPREDICTOR, self).__init__()\n",
    "        self.sm = nn.LogSoftmax()\n",
    "        \n",
    "    def forward(self, support, stargs, inp, lim):\n",
    "        model = LogisticRegression(solver='sag',multi_class='multinomial',max_iter=lim)\n",
    "        model.fit(support.data.cpu().numpy(),stargs.data.cpu().numpy())\n",
    "        weights = Variable(torch.FloatTensor(model.coef_).transpose(0,1)).cuda()\n",
    "        probs = self.sm(torch.matmul(inp,weights))\n",
    "        return probs"
   ]
  },
  {
   "cell_type": "code",
   "execution_count": 3,
   "metadata": {
    "collapsed": true
   },
   "outputs": [],
   "source": [
    "trainset = torch.load('mIN_train.pth')\n",
    "testset = torch.load('mIN_test.pth')\n",
    "valset = torch.load('mIN_val.pth')"
   ]
  },
  {
   "cell_type": "code",
   "execution_count": 4,
   "metadata": {
    "collapsed": true
   },
   "outputs": [],
   "source": [
    "standardize = transforms.Compose([\n",
    "            transforms.ToTensor(),\n",
    "            transforms.Normalize(mean=[.485,.456,.406],std=[.229,.224,.225])\n",
    "            ])\n",
    "alter = transforms.Compose([\n",
    "            transforms.ToPILImage(),\n",
    "            transforms.RandomHorizontalFlip(),\n",
    "            transforms.RandomCrop(84,padding=10),\n",
    "            standardize\n",
    "            ])\n",
    "\n",
    "def batchmaker(way,trainshot,testshot,theset,alterful=False):\n",
    "    classes = np.random.choice(len(theset),way)\n",
    "    if alterful:\n",
    "        li = [torch.cat([alter(theset[cl][i]).view(1,3,84,84) for i in \n",
    "                         np.random.choice(600,trainshot+testshot)],dim=0).float()\n",
    "              for cl in classes]\n",
    "    else:\n",
    "        li = [torch.cat([standardize(theset[cl][i]).view(1,3,84,84) for i in \n",
    "                         np.random.choice(600,trainshot+testshot)],dim=0).float()\n",
    "              for cl in classes]\n",
    "    support = torch.cat([t[:trainshot,:,:,:] for t in li],dim=0)\n",
    "    stargs = torch.LongTensor([i//trainshot for i in range(trainshot*way)])\n",
    "    query = torch.cat([t[trainshot:,:,:,:] for t in li],dim=0)\n",
    "    qtargs = torch.LongTensor([i//testshot for i in range(testshot*way)])\n",
    "#     print(support.size(),query.size())\n",
    "    return(Variable(support).cuda(),\n",
    "           Variable(query, volatile=(not alterful)).cuda(),\n",
    "           Variable(qtargs, volatile=(not alterful)).cuda(),\n",
    "           Variable(stargs).cuda()\n",
    "          )\n",
    "    \n",
    "def newevaluate(embed,model,criterion,way,trainshot,testshot,theset):\n",
    "    losstracker = 0\n",
    "    acctracker = 0\n",
    "    acclist = []\n",
    "    for i in range(reps):\n",
    "#         print(i)\n",
    "        support, query, qtargs, stargs = batchmaker(way,trainshot,testshot,theset)\n",
    "        embeds = embed(support)\n",
    "        qembeds = embed(query)\n",
    "        preds = model(embeds, stargs, qembeds, 50)\n",
    "\n",
    "        # Val loss\n",
    "        loss = criterion(preds,qtargs)\n",
    "        losstracker += loss.data[0]\n",
    "        \n",
    "        # Val accuracy\n",
    "        _,bins = torch.max(preds,1)\n",
    "        acc = torch.sum(torch.eq(bins,qtargs)).data[0]/testshot/way\n",
    "        acctracker += acc\n",
    "        acclist.append(acc)\n",
    "#         display.clear_output(wait=False)\n",
    "        \n",
    "    return losstracker/reps,acctracker/reps,np.var(acclist)\n",
    "\n",
    "way = 20\n",
    "evalway = 5\n",
    "trainshot = 30\n",
    "testshot = 5\n",
    "reps = 50"
   ]
  },
  {
   "cell_type": "code",
   "execution_count": 5,
   "metadata": {},
   "outputs": [
    {
     "name": "stdout",
     "output_type": "stream",
     "text": [
      "113088  parameters in neural net.\n"
     ]
    }
   ],
   "source": [
    "torch.cuda.set_device(1)\n",
    "embed = ENCODER().cuda()\n",
    "model = smartPREDICTOR().cuda()\n",
    "losstracker,evallosstracker,evalacctracker = [],[],[]\n",
    "nweights = sum([i.numel() for i in list(embed.parameters())])\n",
    "print(nweights,\" parameters in neural net.\")"
   ]
  },
  {
   "cell_type": "code",
   "execution_count": 6,
   "metadata": {},
   "outputs": [
    {
     "data": {
      "image/png": "[encoded data removed]",
      "text/plain": [
       "<matplotlib.figure.Figure at 0x7f525ae6e2e8>"
      ]
     },
     "metadata": {},
     "output_type": "display_data"
    },
    {
     "name": "stdout",
     "output_type": "stream",
     "text": [
      "Train loss is: 1.327981718301773\n",
      "Validation accuracy is: 0.7191999999999998\n",
      "Validation loss is: 0.7076639455556869\n",
      "\n"
     ]
    }
   ],
   "source": [
    "# TRAIN!\n",
    "criterion = nn.NLLLoss().cuda()\n",
    "vbity = 250\n",
    "epoch = 2000\n",
    "\n",
    "runningloss = 0\n",
    "te_optimizer = None\n",
    "for it in range(20*epoch):\n",
    "    if it%10==0:\n",
    "        print(it)\n",
    "    \n",
    "    # Build batch\n",
    "    support, query, qtargs, stargs = batchmaker(way,trainshot,testshot,trainset,alterful=True)\n",
    "    \n",
    "    # Predict\n",
    "    embed.zero_grad()\n",
    "    embeds = embed(support)\n",
    "    qembeds = embed(query)\n",
    "    preds = model(embeds, stargs, qembeds, int((it/40000)**2)*80+20)\n",
    "\n",
    "    # Calculate Loss\n",
    "    loss = criterion(preds, qtargs)\n",
    "    runningloss += loss.data[0]\n",
    "    \n",
    "    # Backprop\n",
    "    if it%epoch == 0:\n",
    "        te_optimizer = optim.Adam(embed.parameters(),lr=.001/(2**(it//epoch)))\n",
    "    loss.backward()\n",
    "#     nn.utils.clip_grad_norm(model.parameters(), 1)\n",
    "    te_optimizer.step()\n",
    "    \n",
    "    # Report\n",
    "    if it%vbity == vbity-1:\n",
    "        display.clear_output(wait=True)\n",
    "\n",
    "        losstracker.append(runningloss/vbity)\n",
    "        evalloss, evalacc, _ = newevaluate(embed,model,criterion,evalway,trainshot,testshot,testset)\n",
    "        evallosstracker.append(evalloss)\n",
    "        evalacctracker.append(evalacc)\n",
    "        \n",
    "        pl.figure(1,figsize=(15,5))\n",
    "        pl.subplot(1,2,1)\n",
    "        pl.plot(losstracker)\n",
    "        pl.plot(evallosstracker)\n",
    "        pl.ylim((0,4))\n",
    "        pl.title(\"Loss: Training Blue, Validation Gold\")\n",
    "        pl.subplot(1,2,2)\n",
    "        pl.plot(evalacctracker[::-1])\n",
    "        pl.ylim((0,1))\n",
    "        pl.title(\"Validation Acc\")\n",
    "        pl.show()\n",
    "        \n",
    "        print(\"Train loss is: \"+str(runningloss/vbity)+\n",
    "              \"\\nValidation accuracy is: \"+str(evalacc)+\n",
    "              \"\\nValidation loss is: \"+str(evalloss)+\"\\n\")\n",
    "        runningloss = 0\n",
    "\n",
    "# META\n",
    "        "
   ]
  },
  {
   "cell_type": "code",
   "execution_count": 7,
   "metadata": {},
   "outputs": [
    {
     "name": "stderr",
     "output_type": "stream",
     "text": [
      "/home/dww78/anaconda3/lib/python3.6/site-packages/torch/serialization.py:147: UserWarning: Couldn't retrieve source code for container of type ENCODER. It won't be checked for correctness upon loading.\n",
      "  \"type \" + obj.__name__ + \". It won't be checked \"\n",
      "/home/dww78/anaconda3/lib/python3.6/site-packages/torch/serialization.py:147: UserWarning: Couldn't retrieve source code for container of type Block. It won't be checked for correctness upon loading.\n",
      "  \"type \" + obj.__name__ + \". It won't be checked \"\n",
      "/home/dww78/anaconda3/lib/python3.6/site-packages/torch/serialization.py:147: UserWarning: Couldn't retrieve source code for container of type smartPREDICTOR. It won't be checked for correctness upon loading.\n",
      "  \"type \" + obj.__name__ + \". It won't be checked \"\n"
     ]
    }
   ],
   "source": [
    "name = 'sklearn_highshot'\n",
    "torch.save((embed,model,losstracker,evallosstracker,evalacctracker),'saved_models/'+name+'.pth')\n",
    "torch.save(embed.cpu().state_dict(),'saved_models/'+name+'_cpu.pth')"
   ]
  },
  {
   "cell_type": "code",
   "execution_count": 8,
   "metadata": {},
   "outputs": [
    {
     "data": {
      "text/plain": [
       "0.7235450000000001"
      ]
     },
     "execution_count": 8,
     "metadata": {},
     "output_type": "execute_result"
    }
   ],
   "source": [
    "np.mean(evalacctracker[-1000:])"
   ]
  },
  {
   "cell_type": "code",
   "execution_count": 6,
   "metadata": {
    "collapsed": true
   },
   "outputs": [],
   "source": []
  },
  {
   "cell_type": "code",
   "execution_count": null,
   "metadata": {
    "collapsed": true
   },
   "outputs": [],
   "source": []
  },
  {
   "cell_type": "code",
   "execution_count": null,
   "metadata": {
    "collapsed": true
   },
   "outputs": [],
   "source": []
  },
  {
   "cell_type": "code",
   "execution_count": 73,
   "metadata": {
    "collapsed": true
   },
   "outputs": [],
   "source": [
    "class PREDICTOR(nn.Module):\n",
    "    def __init__(self):\n",
    "        super(PREDICTOR, self).__init__()\n",
    "        self.sm = nn.LogSoftmax()\n",
    "        \n",
    "    def forward(self, support, inp, way):\n",
    "        assert support.size(0)%way == 0,\"Error: classes are not the same size!\"\n",
    "        support = support.view(way,support.size(0)//way,-1)\n",
    "        centroids = torch.mean(support, 1).view(support.size(0),-1)\n",
    "#         temp1 = torch.stack([centroids]*inp.size(0))\n",
    "#         temp2 = torch.stack([inp]*centroids.size(0)).transpose(0,1)\n",
    "#         print(temp1.size(),temp2.size())\n",
    "        distmat = torch.sum((torch.stack([centroids]*inp.size(0))-torch.stack([inp]*centroids.size(0))\n",
    "                             .transpose(0,1))**2,2).squeeze()*-1\n",
    "        probs = self.sm(distmat)\n",
    "        return probs\n",
    "embed, _ = torch.load('saved_models/naive_2_noinfo.pth')\n",
    "embed = embed.cuda()"
   ]
  },
  {
   "cell_type": "code",
   "execution_count": 30,
   "metadata": {},
   "outputs": [
    {
     "data": {
      "image/png": "[encoded data removed]",
      "text/plain": [
       "<matplotlib.figure.Figure at 0x7f83b89d9a20>"
      ]
     },
     "metadata": {},
     "output_type": "display_data"
    }
   ],
   "source": [
    "# Build batch\n",
    "# embed, model, _,_,_ = torch.load('saved_models/smart_1.pth')\n",
    "support, query, qtargs, stargs = batchmaker(way,trainshot,testshot,valset,alterful=False)\n",
    "criterion = nn.NLLLoss().cuda()\n",
    "embed = embed.cuda()\n",
    "model = model.cuda()\n",
    "\n",
    "# Predict\n",
    "tracker = []\n",
    "embed.zero_grad()\n",
    "embeds = embed(support)\n",
    "model.initialize(way)\n",
    "tr_optimizer = optim.Adam(model.parameters(),lr=.01)\n",
    "for i in range(15):\n",
    "    model.zero_grad()\n",
    "    preds = model(embeds.detach())\n",
    "    loss = criterion(preds, stargs)\n",
    "    tracker.append(loss.data[0])\n",
    "    loss.backward()\n",
    "    tr_optimizer.step()\n",
    "# print(model.weights.data)\n",
    "# print(torch.var(model.weights.data.view(-1)),torch.max(model.weights.data),torch.min(model.weights.data))\n",
    "pl.figure()\n",
    "pl.plot(tracker)\n",
    "pl.ylim((0,4))\n",
    "pl.show()"
   ]
  },
  {
   "cell_type": "code",
   "execution_count": null,
   "metadata": {
    "collapsed": true
   },
   "outputs": [],
   "source": []
  },
  {
   "cell_type": "code",
   "execution_count": 30,
   "metadata": {},
   "outputs": [
    {
     "data": {
      "text/plain": [
       "Variable containing:\n",
       " 20.6023\n",
       "[torch.cuda.FloatTensor of size 1 (GPU 0)]"
      ]
     },
     "execution_count": 30,
     "metadata": {},
     "output_type": "execute_result"
    }
   ],
   "source": [
    "torch.mean(torch.norm(embeds,2,1))"
   ]
  },
  {
   "cell_type": "code",
   "execution_count": null,
   "metadata": {
    "collapsed": true
   },
   "outputs": [],
   "source": [
    "# BASELINE"
   ]
  },
  {
   "cell_type": "code",
   "execution_count": 25,
   "metadata": {},
   "outputs": [
    {
     "name": "stdout",
     "output_type": "stream",
     "text": [
      "(0.91514739215374, 0.6385333333333335, 0.010876071111111113)\n"
     ]
    }
   ],
   "source": [
    "print(newevaluate(embed,model,criterion,evalway,trainshot,testshot,testset))\n",
    "# TESTSET"
   ]
  },
  {
   "cell_type": "code",
   "execution_count": 13,
   "metadata": {},
   "outputs": [
    {
     "name": "stdout",
     "output_type": "stream",
     "text": [
      "(0.6446040686964989, 0.7650666666666668, 0.0088703288888888881)\n"
     ]
    }
   ],
   "source": [
    "print(newevaluate(embed,model,criterion,evalway,trainshot,testshot,trainset))\n",
    "# TRAINSET"
   ]
  },
  {
   "cell_type": "code",
   "execution_count": 13,
   "metadata": {},
   "outputs": [
    {
     "name": "stdout",
     "output_type": "stream",
     "text": [
      "(0.7136507552862167, 0.7288000000000002, 0.012978559999999997)\n"
     ]
    }
   ],
   "source": [
    "print(newevaluate(embed,model,criterion,evalway,trainshot,testshot,testset))\n",
    "# TESTSET, 100 PATIENCE, NAIVE"
   ]
  },
  {
   "cell_type": "code",
   "execution_count": 15,
   "metadata": {},
   "outputs": [
    {
     "name": "stdout",
     "output_type": "stream",
     "text": [
      "(0.726845205873251, 0.7353333333333336, 0.0094271111111111101)\n"
     ]
    }
   ],
   "source": [
    "print(newevaluate(embed,model,criterion,evalway,trainshot,testshot,testset))\n",
    "# TESTSET, 100 PATIENCE, SMART"
   ]
  },
  {
   "cell_type": "code",
   "execution_count": null,
   "metadata": {
    "collapsed": true
   },
   "outputs": [],
   "source": []
  },
  {
   "cell_type": "code",
   "execution_count": null,
   "metadata": {
    "collapsed": true
   },
   "outputs": [],
   "source": [
    "# EXPERIMENTS"
   ]
  },
  {
   "cell_type": "code",
   "execution_count": 71,
   "metadata": {},
   "outputs": [
    {
     "name": "stdout",
     "output_type": "stream",
     "text": [
      "(0.9770350706577301, 0.6170666666666665, 0.010962062222222221)\n"
     ]
    }
   ],
   "source": [
    "print(newevaluate(embed,model,criterion,evalway,trainshot,testshot,testset))\n",
    "# TESTSET, 100 PATIENCE, SMART. LR .1, MOM 0"
   ]
  },
  {
   "cell_type": "code",
   "execution_count": 77,
   "metadata": {},
   "outputs": [
    {
     "name": "stdout",
     "output_type": "stream",
     "text": [
      "(0.9578658026456833, 0.6214000000000002, 0.013506039999999999)\n"
     ]
    }
   ],
   "source": [
    "print(newevaluate(embed,model,criterion,evalway,trainshot,testshot,testset))\n",
    "# TESTSET, 100 PATIENCE, NAIVE. LR .1, MOM 0"
   ]
  },
  {
   "cell_type": "code",
   "execution_count": 68,
   "metadata": {},
   "outputs": [
    {
     "name": "stdout",
     "output_type": "stream",
     "text": [
      "(0.9450288346409798, 0.6406666666666669, 0.013203111111111108)\n"
     ]
    }
   ],
   "source": [
    "print(newevaluate(embed,model,criterion,evalway,trainshot,testshot,testset))\n",
    "# TESTSET, 50 PATIENCE, SMART. LR .1, MOM 0.5"
   ]
  },
  {
   "cell_type": "code",
   "execution_count": 64,
   "metadata": {},
   "outputs": [
    {
     "name": "stdout",
     "output_type": "stream",
     "text": [
      "(0.9806817117333412, 0.6148000000000002, 0.011196071111111108)\n"
     ]
    }
   ],
   "source": [
    "print(newevaluate(embed,model,criterion,evalway,trainshot,testshot,testset))\n",
    "# TESTSET, 20 PATIENCE, SMART. LR 1, MOM .5"
   ]
  },
  {
   "cell_type": "code",
   "execution_count": 132,
   "metadata": {},
   "outputs": [
    {
     "data": {
      "image/png": "[encoded data removed]",
      "text/plain": [
       "<matplotlib.figure.Figure at 0x7f184c4b0908>"
      ]
     },
     "metadata": {},
     "output_type": "display_data"
    }
   ],
   "source": [
    "from random import randint\n",
    "pl.figure()\n",
    "pl.imshow(testset[randint(0,len(testset)-1)][randint(0,len(testset[0])-1)])\n",
    "pl.show()"
   ]
  },
  {
   "cell_type": "code",
   "execution_count": null,
   "metadata": {
    "collapsed": true
   },
   "outputs": [],
   "source": []
  },
  {
   "cell_type": "code",
   "execution_count": 6,
   "metadata": {},
   "outputs": [
    {
     "data": {
      "image/png": "[encoded data removed]",
      "text/plain": [
       "<matplotlib.figure.Figure at 0x7f79e26b8710>"
      ]
     },
     "metadata": {},
     "output_type": "display_data"
    },
    {
     "name": "stdout",
     "output_type": "stream",
     "text": [
      "Train loss is: 1.4755005943775177\n",
      "Validation accuracy is: 0.6951111111111113\n",
      "Validation loss is: 0.7553736646970113\n",
      "\n",
      "188500\n",
      "188510\n",
      "188520\n",
      "188530\n",
      "188540\n",
      "188550\n"
     ]
    },
    {
     "ename": "KeyboardInterrupt",
     "evalue": "",
     "output_type": "error",
     "traceback": [
      "\u001b[0;31m---------------------------------------------------------------------------\u001b[0m",
      "\u001b[0;31mKeyboardInterrupt\u001b[0m                         Traceback (most recent call last)",
      "\u001b[0;32m<ipython-input-6-186fa9537132>\u001b[0m in \u001b[0;36m<module>\u001b[0;34m()\u001b[0m\n\u001b[1;32m     12\u001b[0m \u001b[0;34m\u001b[0m\u001b[0m\n\u001b[1;32m     13\u001b[0m     \u001b[0;31m# Build batch\u001b[0m\u001b[0;34m\u001b[0m\u001b[0;34m\u001b[0m\u001b[0m\n\u001b[0;32m---> 14\u001b[0;31m     \u001b[0msupport\u001b[0m\u001b[0;34m,\u001b[0m \u001b[0mquery\u001b[0m\u001b[0;34m,\u001b[0m \u001b[0mtargs\u001b[0m \u001b[0;34m=\u001b[0m \u001b[0mbatchmaker\u001b[0m\u001b[0;34m(\u001b[0m\u001b[0mway\u001b[0m\u001b[0;34m,\u001b[0m\u001b[0mtrainshot\u001b[0m\u001b[0;34m,\u001b[0m\u001b[0mtestshot\u001b[0m\u001b[0;34m,\u001b[0m\u001b[0mtrainset\u001b[0m\u001b[0;34m,\u001b[0m\u001b[0malterful\u001b[0m\u001b[0;34m=\u001b[0m\u001b[0;32mTrue\u001b[0m\u001b[0;34m)\u001b[0m\u001b[0;34m\u001b[0m\u001b[0m\n\u001b[0m\u001b[1;32m     15\u001b[0m \u001b[0;34m\u001b[0m\u001b[0m\n\u001b[1;32m     16\u001b[0m     \u001b[0;31m# Predict\u001b[0m\u001b[0;34m\u001b[0m\u001b[0;34m\u001b[0m\u001b[0m\n",
      "\u001b[0;32m<ipython-input-4-84462d890901>\u001b[0m in \u001b[0;36mbatchmaker\u001b[0;34m(way, trainshot, testshot, theset, alterful)\u001b[0m\n\u001b[1;32m     15\u001b[0m         li = [torch.cat([alter(trainset[cl][i]).view(1,3,84,84) for i in \n\u001b[1;32m     16\u001b[0m                          np.random.choice(600,trainshot+testshot)],dim=0).float()\n\u001b[0;32m---> 17\u001b[0;31m               for cl in classes]\n\u001b[0m\u001b[1;32m     18\u001b[0m     \u001b[0;32melse\u001b[0m\u001b[0;34m:\u001b[0m\u001b[0;34m\u001b[0m\u001b[0m\n\u001b[1;32m     19\u001b[0m         li = [torch.cat([standardize(trainset[cl][i]).view(1,3,84,84) for i in \n",
      "\u001b[0;32m<ipython-input-4-84462d890901>\u001b[0m in \u001b[0;36m<listcomp>\u001b[0;34m(.0)\u001b[0m\n\u001b[1;32m     15\u001b[0m         li = [torch.cat([alter(trainset[cl][i]).view(1,3,84,84) for i in \n\u001b[1;32m     16\u001b[0m                          np.random.choice(600,trainshot+testshot)],dim=0).float()\n\u001b[0;32m---> 17\u001b[0;31m               for cl in classes]\n\u001b[0m\u001b[1;32m     18\u001b[0m     \u001b[0;32melse\u001b[0m\u001b[0;34m:\u001b[0m\u001b[0;34m\u001b[0m\u001b[0m\n\u001b[1;32m     19\u001b[0m         li = [torch.cat([standardize(trainset[cl][i]).view(1,3,84,84) for i in \n",
      "\u001b[0;32m<ipython-input-4-84462d890901>\u001b[0m in \u001b[0;36m<listcomp>\u001b[0;34m(.0)\u001b[0m\n\u001b[1;32m     13\u001b[0m     \u001b[0mclasses\u001b[0m \u001b[0;34m=\u001b[0m \u001b[0mnp\u001b[0m\u001b[0;34m.\u001b[0m\u001b[0mrandom\u001b[0m\u001b[0;34m.\u001b[0m\u001b[0mchoice\u001b[0m\u001b[0;34m(\u001b[0m\u001b[0mlen\u001b[0m\u001b[0;34m(\u001b[0m\u001b[0mtheset\u001b[0m\u001b[0;34m)\u001b[0m\u001b[0;34m,\u001b[0m\u001b[0mway\u001b[0m\u001b[0;34m)\u001b[0m\u001b[0;34m\u001b[0m\u001b[0m\n\u001b[1;32m     14\u001b[0m     \u001b[0;32mif\u001b[0m \u001b[0malterful\u001b[0m\u001b[0;34m:\u001b[0m\u001b[0;34m\u001b[0m\u001b[0m\n\u001b[0;32m---> 15\u001b[0;31m         li = [torch.cat([alter(trainset[cl][i]).view(1,3,84,84) for i in \n\u001b[0m\u001b[1;32m     16\u001b[0m                          np.random.choice(600,trainshot+testshot)],dim=0).float()\n\u001b[1;32m     17\u001b[0m               for cl in classes]\n",
      "\u001b[0;32m/home/dww78/anaconda3/lib/python3.6/site-packages/torchvision-0.1.9-py3.6.egg/torchvision/transforms.py\u001b[0m in \u001b[0;36m__call__\u001b[0;34m(self, img)\u001b[0m\n\u001b[1;32m     32\u001b[0m     \u001b[0;32mdef\u001b[0m \u001b[0m__call__\u001b[0m\u001b[0;34m(\u001b[0m\u001b[0mself\u001b[0m\u001b[0;34m,\u001b[0m \u001b[0mimg\u001b[0m\u001b[0;34m)\u001b[0m\u001b[0;34m:\u001b[0m\u001b[0;34m\u001b[0m\u001b[0m\n\u001b[1;32m     33\u001b[0m         \u001b[0;32mfor\u001b[0m \u001b[0mt\u001b[0m \u001b[0;32min\u001b[0m \u001b[0mself\u001b[0m\u001b[0;34m.\u001b[0m\u001b[0mtransforms\u001b[0m\u001b[0;34m:\u001b[0m\u001b[0;34m\u001b[0m\u001b[0m\n\u001b[0;32m---> 34\u001b[0;31m             \u001b[0mimg\u001b[0m \u001b[0;34m=\u001b[0m \u001b[0mt\u001b[0m\u001b[0;34m(\u001b[0m\u001b[0mimg\u001b[0m\u001b[0;34m)\u001b[0m\u001b[0;34m\u001b[0m\u001b[0m\n\u001b[0m\u001b[1;32m     35\u001b[0m         \u001b[0;32mreturn\u001b[0m \u001b[0mimg\u001b[0m\u001b[0;34m\u001b[0m\u001b[0m\n\u001b[1;32m     36\u001b[0m \u001b[0;34m\u001b[0m\u001b[0m\n",
      "\u001b[0;32m/home/dww78/anaconda3/lib/python3.6/site-packages/torchvision-0.1.9-py3.6.egg/torchvision/transforms.py\u001b[0m in \u001b[0;36m__call__\u001b[0;34m(self, img)\u001b[0m\n\u001b[1;32m     32\u001b[0m     \u001b[0;32mdef\u001b[0m \u001b[0m__call__\u001b[0m\u001b[0;34m(\u001b[0m\u001b[0mself\u001b[0m\u001b[0;34m,\u001b[0m \u001b[0mimg\u001b[0m\u001b[0;34m)\u001b[0m\u001b[0;34m:\u001b[0m\u001b[0;34m\u001b[0m\u001b[0m\n\u001b[1;32m     33\u001b[0m         \u001b[0;32mfor\u001b[0m \u001b[0mt\u001b[0m \u001b[0;32min\u001b[0m \u001b[0mself\u001b[0m\u001b[0;34m.\u001b[0m\u001b[0mtransforms\u001b[0m\u001b[0;34m:\u001b[0m\u001b[0;34m\u001b[0m\u001b[0m\n\u001b[0;32m---> 34\u001b[0;31m             \u001b[0mimg\u001b[0m \u001b[0;34m=\u001b[0m \u001b[0mt\u001b[0m\u001b[0;34m(\u001b[0m\u001b[0mimg\u001b[0m\u001b[0;34m)\u001b[0m\u001b[0;34m\u001b[0m\u001b[0m\n\u001b[0m\u001b[1;32m     35\u001b[0m         \u001b[0;32mreturn\u001b[0m \u001b[0mimg\u001b[0m\u001b[0;34m\u001b[0m\u001b[0m\n\u001b[1;32m     36\u001b[0m \u001b[0;34m\u001b[0m\u001b[0m\n",
      "\u001b[0;32m/home/dww78/anaconda3/lib/python3.6/site-packages/torchvision-0.1.9-py3.6.egg/torchvision/transforms.py\u001b[0m in \u001b[0;36m__call__\u001b[0;34m(self, tensor)\u001b[0m\n\u001b[1;32m    154\u001b[0m         \u001b[0;31m# TODO: make efficient\u001b[0m\u001b[0;34m\u001b[0m\u001b[0;34m\u001b[0m\u001b[0m\n\u001b[1;32m    155\u001b[0m         \u001b[0;32mfor\u001b[0m \u001b[0mt\u001b[0m\u001b[0;34m,\u001b[0m \u001b[0mm\u001b[0m\u001b[0;34m,\u001b[0m \u001b[0ms\u001b[0m \u001b[0;32min\u001b[0m \u001b[0mzip\u001b[0m\u001b[0;34m(\u001b[0m\u001b[0mtensor\u001b[0m\u001b[0;34m,\u001b[0m \u001b[0mself\u001b[0m\u001b[0;34m.\u001b[0m\u001b[0mmean\u001b[0m\u001b[0;34m,\u001b[0m \u001b[0mself\u001b[0m\u001b[0;34m.\u001b[0m\u001b[0mstd\u001b[0m\u001b[0;34m)\u001b[0m\u001b[0;34m:\u001b[0m\u001b[0;34m\u001b[0m\u001b[0m\n\u001b[0;32m--> 156\u001b[0;31m             \u001b[0mt\u001b[0m\u001b[0;34m.\u001b[0m\u001b[0msub_\u001b[0m\u001b[0;34m(\u001b[0m\u001b[0mm\u001b[0m\u001b[0;34m)\u001b[0m\u001b[0;34m.\u001b[0m\u001b[0mdiv_\u001b[0m\u001b[0;34m(\u001b[0m\u001b[0ms\u001b[0m\u001b[0;34m)\u001b[0m\u001b[0;34m\u001b[0m\u001b[0m\n\u001b[0m\u001b[1;32m    157\u001b[0m         \u001b[0;32mreturn\u001b[0m \u001b[0mtensor\u001b[0m\u001b[0;34m\u001b[0m\u001b[0m\n\u001b[1;32m    158\u001b[0m \u001b[0;34m\u001b[0m\u001b[0m\n",
      "\u001b[0;31mKeyboardInterrupt\u001b[0m: "
     ]
    }
   ],
   "source": [
    "# TRAIN!\n",
    "criterion = nn.NLLLoss().cuda()\n",
    "vbity = 100\n",
    "epoch = 2000\n",
    "\n",
    "losstracker,evallosstracker,evalacctracker = [],[],[]\n",
    "runningloss = 0\n",
    "optimizer = None\n",
    "for it in range(epoch*100):\n",
    "    if it%10==0:\n",
    "        print(it)\n",
    "    \n",
    "    # Build batch\n",
    "    support, query, qtargs, _ = batchmaker(way,trainshot,testshot,trainset,alterful=True)\n",
    "    \n",
    "    # Predict\n",
    "    embed.zero_grad()\n",
    "    model.zero_grad()\n",
    "    embeds = embed(support)\n",
    "    qembeds = embed(query)\n",
    "    preds = model(embeds,qembeds,way)\n",
    "\n",
    "    # Calculate Loss\n",
    "    loss = criterion(preds, targs)\n",
    "    runningloss += loss.data[0]\n",
    "    \n",
    "    # Backprop\n",
    "    if it%epoch == 0:\n",
    "        optimizer = optim.Adam(embed.parameters(),lr=.001/(2**(it//epoch)))\n",
    "    loss.backward()\n",
    "#     nn.utils.clip_grad_norm(model.parameters(), 1)\n",
    "    optimizer.step()\n",
    "    \n",
    "    # Report\n",
    "    if it%vbity == vbity-1:\n",
    "        display.clear_output(wait=True)\n",
    "\n",
    "        losstracker.append(runningloss/vbity)\n",
    "        evalloss, evalacc = evaluate(embed,model,criterion,evalway,trainshot,testshot)\n",
    "        evallosstracker.append(evalloss)\n",
    "        evalacctracker.append(evalacc)\n",
    "        \n",
    "        pl.figure(1,figsize=(15,5))\n",
    "        pl.subplot(1,2,1)\n",
    "        pl.plot(losstracker)\n",
    "        pl.plot(evallosstracker)\n",
    "        pl.ylim((0,4))\n",
    "        pl.title(\"Loss: Training Blue, Validation Gold\")\n",
    "        pl.subplot(1,2,2)\n",
    "        pl.plot(evalacctracker)\n",
    "        pl.ylim((0,1))\n",
    "        pl.title(\"Validation Acc\")\n",
    "        pl.show()\n",
    "        \n",
    "        print(\"Train loss is: \"+str(runningloss/vbity)+\n",
    "              \"\\nValidation accuracy is: \"+str(evalacc)+\n",
    "              \"\\nValidation loss is: \"+str(evalloss)+\"\\n\")\n",
    "        runningloss = 0\n"
   ]
  },
  {
   "cell_type": "code",
   "execution_count": null,
   "metadata": {
    "collapsed": true
   },
   "outputs": [],
   "source": [
    "Paper model achieves (over last 1000):\n",
    "    0.71156711111111126\n",
    "after 188500 iters"
   ]
  },
  {
   "cell_type": "code",
   "execution_count": null,
   "metadata": {
    "collapsed": true
   },
   "outputs": [],
   "source": []
  },
  {
   "cell_type": "code",
   "execution_count": null,
   "metadata": {
    "collapsed": true
   },
   "outputs": [],
   "source": []
  },
  {
   "cell_type": "code",
   "execution_count": null,
   "metadata": {
    "collapsed": true
   },
   "outputs": [],
   "source": []
  },
  {
   "cell_type": "code",
   "execution_count": 213,
   "metadata": {},
   "outputs": [
    {
     "data": {
      "text/plain": [
       "Variable containing:\n",
       "-6.7075e-03 -5.0079e+00 -2.7911e+01\n",
       "-2.9057e+00 -5.6263e-02 -4.5704e+01\n",
       "-1.8272e+01 -4.3870e+01 -1.1600e-08\n",
       "[torch.FloatTensor of size 3x3]"
      ]
     },
     "execution_count": 213,
     "metadata": {},
     "output_type": "execute_result"
    }
   ],
   "source": [
    "support = supportmaker(nclass,shot)\n",
    "inp = inpmaker(nclass)\n",
    "embeds = embed(support)\n",
    "query = embed(inp)\n",
    "model(embeds,query)"
   ]
  }
 ],
 "metadata": {
  "kernelspec": {
   "display_name": "Python 3",
   "language": "python",
   "name": "python3"
  },
  "language_info": {
   "codemirror_mode": {
    "name": "ipython",
    "version": 3
   },
   "file_extension": ".py",
   "mimetype": "text/x-python",
   "name": "python",
   "nbconvert_exporter": "python",
   "pygments_lexer": "ipython3",
   "version": "3.6.3"
  }
 },
 "nbformat": 4,
 "nbformat_minor": 2
}
